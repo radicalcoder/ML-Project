{
  "nbformat": 4,
  "nbformat_minor": 0,
  "metadata": {
    "colab": {
      "name": "Untitled1.ipynb",
      "provenance": [],
      "include_colab_link": true
    },
    "kernelspec": {
      "name": "python3",
      "display_name": "Python 3"
    }
  },
  "cells": [
    {
      "cell_type": "markdown",
      "metadata": {
        "id": "view-in-github",
        "colab_type": "text"
      },
      "source": [
        "<a href=\"https://colab.research.google.com/github/radicalcoder/ML-Project/blob/master/MLP.ipynb\" target=\"_parent\"><img src=\"https://colab.research.google.com/assets/colab-badge.svg\" alt=\"Open In Colab\"/></a>"
      ]
    },
    {
      "cell_type": "code",
      "metadata": {
        "id": "pWq7yyS0HsIR",
        "colab_type": "code",
        "colab": {
          "base_uri": "https://localhost:8080/",
          "height": 119
        },
        "outputId": "cc884837-a833-4f6b-ebc7-903b3e5b9b15"
      },
      "source": [
        "import os\n",
        "import random\n",
        "import skimage.data\n",
        "import skimage.transform\n",
        "import matplotlib\n",
        "import matplotlib.pyplot as plt\n",
        "import numpy as np\n",
        "import tensorflow as tf\n",
        "\n",
        "# Allow image embeding in notebook\n",
        "%matplotlib inline\n",
        "!git clone -l -s https://github.com/radicalcoder/ML-Project.git cloned-repo\n",
        "%cd cloned-repo\n",
        "!ls"
      ],
      "execution_count": 7,
      "outputs": [
        {
          "output_type": "stream",
          "text": [
            "Cloning into 'cloned-repo'...\n",
            "warning: --local is ignored\n",
            "fatal: could not read Username for 'https://github.com': No such device or address\n",
            "[Errno 2] No such file or directory: 'cloned-repo'\n",
            "/content\n",
            "sample_data\n"
          ],
          "name": "stdout"
        }
      ]
    },
    {
      "cell_type": "code",
      "metadata": {
        "id": "bP04wnwpKWTg",
        "colab_type": "code",
        "colab": {
          "base_uri": "https://localhost:8080/",
          "height": 317
        },
        "outputId": "76048d19-d7e0-4de7-9adb-94bcd8126ec0"
      },
      "source": [
        "def load_data(data_dir):\n",
        "    \"\"\"Loads a data set and returns two lists:\n",
        "    \n",
        "    images: a list of Numpy arrays, each representing an image.\n",
        "    labels: a list of numbers that represent the images labels.\n",
        "    \"\"\"\n",
        "    # Get all subdirectories of data_dir. Each represents a label.\n",
        "    directories = [d for d in os.listdir(data_dir) \n",
        "                   if os.path.isdir(os.path.join(data_dir, d))]\n",
        "    # Loop through the label directories and collect the data in\n",
        "    # two lists, labels and images.\n",
        "    labels = []\n",
        "    images = []\n",
        "    for d in directories:\n",
        "        label_dir = os.path.join(data_dir, d)\n",
        "        file_names = [os.path.join(label_dir, f) \n",
        "                      for f in os.listdir(label_dir) if f.endswith(\".ppm\")]\n",
        "        # For each label, load it's images and add them to the images list.\n",
        "        # And add the label number (i.e. directory name) to the labels list.\n",
        "        for f in file_names:\n",
        "            images.append(skimage.data.imread(f))\n",
        "            labels.append(int(d))\n",
        "    return images, labels\n",
        "\n",
        "\n",
        "# Load training and testing datasets.\n",
        "ROOT_PATH = \"radicalcoder/ML-Project\"\n",
        "train_data_dir = os.path.join(ROOT_PATH, \"BelgiumTSC_Training/Training/\")\n",
        "test_data_dir = os.path.join(ROOT_PATH, \"BelgiumTSC_Testing/Testing/\")\n",
        "\n",
        "images, labels = load_data(train_data_dir)"
      ],
      "execution_count": 4,
      "outputs": [
        {
          "output_type": "error",
          "ename": "FileNotFoundError",
          "evalue": "ignored",
          "traceback": [
            "\u001b[0;31m---------------------------------------------------------------------------\u001b[0m",
            "\u001b[0;31mFileNotFoundError\u001b[0m                         Traceback (most recent call last)",
            "\u001b[0;32m<ipython-input-4-bd8baf97deb5>\u001b[0m in \u001b[0;36m<module>\u001b[0;34m()\u001b[0m\n\u001b[1;32m     29\u001b[0m \u001b[0mtest_data_dir\u001b[0m \u001b[0;34m=\u001b[0m \u001b[0mos\u001b[0m\u001b[0;34m.\u001b[0m\u001b[0mpath\u001b[0m\u001b[0;34m.\u001b[0m\u001b[0mjoin\u001b[0m\u001b[0;34m(\u001b[0m\u001b[0mROOT_PATH\u001b[0m\u001b[0;34m,\u001b[0m \u001b[0;34m\"BelgiumTSC_Testing/Testing/\"\u001b[0m\u001b[0;34m)\u001b[0m\u001b[0;34m\u001b[0m\u001b[0;34m\u001b[0m\u001b[0m\n\u001b[1;32m     30\u001b[0m \u001b[0;34m\u001b[0m\u001b[0m\n\u001b[0;32m---> 31\u001b[0;31m \u001b[0mimages\u001b[0m\u001b[0;34m,\u001b[0m \u001b[0mlabels\u001b[0m \u001b[0;34m=\u001b[0m \u001b[0mload_data\u001b[0m\u001b[0;34m(\u001b[0m\u001b[0mtrain_data_dir\u001b[0m\u001b[0;34m)\u001b[0m\u001b[0;34m\u001b[0m\u001b[0;34m\u001b[0m\u001b[0m\n\u001b[0m",
            "\u001b[0;32m<ipython-input-4-bd8baf97deb5>\u001b[0m in \u001b[0;36mload_data\u001b[0;34m(data_dir)\u001b[0m\n\u001b[1;32m      6\u001b[0m     \"\"\"\n\u001b[1;32m      7\u001b[0m     \u001b[0;31m# Get all subdirectories of data_dir. Each represents a label.\u001b[0m\u001b[0;34m\u001b[0m\u001b[0;34m\u001b[0m\u001b[0;34m\u001b[0m\u001b[0m\n\u001b[0;32m----> 8\u001b[0;31m     directories = [d for d in os.listdir(data_dir) \n\u001b[0m\u001b[1;32m      9\u001b[0m                    if os.path.isdir(os.path.join(data_dir, d))]\n\u001b[1;32m     10\u001b[0m     \u001b[0;31m# Loop through the label directories and collect the data in\u001b[0m\u001b[0;34m\u001b[0m\u001b[0;34m\u001b[0m\u001b[0;34m\u001b[0m\u001b[0m\n",
            "\u001b[0;31mFileNotFoundError\u001b[0m: [Errno 2] No such file or directory: 'radicalcoder/ML-Project/BelgiumTSC_Training/Training/'"
          ]
        }
      ]
    },
    {
      "cell_type": "code",
      "metadata": {
        "id": "xWYP-F1pLS3w",
        "colab_type": "code",
        "colab": {}
      },
      "source": [
        "print(\"Unique Labels: {0}\\nTotal Images: {1}\".format(len(set(labels)), len(images)))"
      ],
      "execution_count": 0,
      "outputs": []
    }
  ]
}