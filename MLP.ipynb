{
  "nbformat": 4,
  "nbformat_minor": 0,
  "metadata": {
    "colab": {
      "name": "Untitled1.ipynb",
      "provenance": [],
      "include_colab_link": true
    },
    "kernelspec": {
      "name": "python3",
      "display_name": "Python 3"
    },
    "accelerator": "GPU"
  },
  "cells": [
    {
      "cell_type": "markdown",
      "metadata": {
        "id": "view-in-github",
        "colab_type": "text"
      },
      "source": [
        "<a href=\"https://colab.research.google.com/github/radicalcoder/ML-Project/blob/master/MLP.ipynb\" target=\"_parent\"><img src=\"https://colab.research.google.com/assets/colab-badge.svg\" alt=\"Open In Colab\"/></a>"
      ]
    },
    {
      "cell_type": "code",
      "metadata": {
        "id": "pWq7yyS0HsIR",
        "colab_type": "code",
        "outputId": "7cefe4d5-8d6c-46a3-e535-cdd577bda6b9",
        "colab": {
          "base_uri": "https://localhost:8080/",
          "height": 225
        }
      },
      "source": [
        "import os\n",
        "import random\n",
        "import matplotlib\n",
        "import matplotlib.pyplot as plt\n",
        "import skimage\n",
        "import skimage.data\n",
        "import skimage.transform\n",
        "import tensorflow as tf\n",
        "import numpy as np\n",
        "import pandas as pd\n",
        "from sklearn.metrics import confusion_matrix, classification_report, accuracy_score\n",
        "import itertools\n",
        "from keras import models\n",
        "from keras.preprocessing import image\n",
        "from PIL import Image\n",
        "from keras.models import Sequential\n",
        "import keras\n",
        "import PIL\n",
        "from skimage import io\n",
        "from skimage import color\n",
        "from keras.layers import Dense, Conv2D, Flatten, MaxPooling2D, Dropout\n",
        "\n",
        "\n",
        "\n",
        "# To read the data directory from repository on github.\n",
        "%matplotlib inline\n",
        "!git clone -l -s https://github.com/radicalcoder/ML-Project.git data\n",
        "%cd data\n",
        "!ls"
      ],
      "execution_count": 83,
      "outputs": [
        {
          "output_type": "stream",
          "text": [
            "Cloning into 'data'...\n",
            "warning: --local is ignored\n",
            "remote: Enumerating objects: 69, done.\u001b[K\n",
            "remote: Counting objects: 100% (69/69), done.\u001b[K\n",
            "remote: Compressing objects: 100% (68/68), done.\u001b[K\n",
            "remote: Total 7418 (delta 42), reused 0 (delta 0), pack-reused 7349\u001b[K\n",
            "Receiving objects: 100% (7418/7418), 248.14 MiB | 27.75 MiB/s, done.\n",
            "Resolving deltas: 100% (45/45), done.\n",
            "Checking out files: 100% (7225/7225), done.\n",
            "/content/data/data/data/data\n",
            "BelgiumTSC_Testing   MLP_final_initialdraft.ipynb  README.md\n",
            "BelgiumTSC_Training  MLP.ipynb\t\t\t   traffic.py\n"
          ],
          "name": "stdout"
        }
      ]
    },
    {
      "cell_type": "code",
      "metadata": {
        "id": "bP04wnwpKWTg",
        "colab_type": "code",
        "colab": {}
      },
      "source": [
        "def data_loader(data_dir):\n",
        "    \"\"\"\n",
        "    The data set is read into two lists, as follows:\n",
        "    list labels[] -> a list of numbers, where each number represents a unique image label.\n",
        "    list images[] -> a list of arrays, where each array represents a single image.\n",
        "    \n",
        "    The data set directory contains multiple subdirectories. We read all these \n",
        "    subdirectories into a list subdirs[]. Since the subfolders are read in a random order, the list\n",
        "    is also in a random order. We then sort this array using the sort() function.\n",
        "    \"\"\"\n",
        "    \n",
        "    subdirs = []\n",
        "    for i in os.listdir(data_dir):\n",
        "      if os.path.isdir(data_dir + i):   # There may be .txt files in the data_dir hence we need to check\n",
        "        subdirs.append(i)\n",
        "\n",
        "    subdirs.sort()\n",
        "    \n",
        "    \"\"\"\n",
        "    Data is now collected into two lists - labels & images - while looping through the \n",
        "    list subdirs[].    \n",
        "    \"\"\"\n",
        "\n",
        "    labels = []\n",
        "    images = []\n",
        "    for i in subdirs:\n",
        "        label_dir = data_dir + i\n",
        "        #print(label_dir)\n",
        "        f_names=[]\n",
        "        for f in os.listdir(label_dir):\n",
        "          if f.endswith(\".ppm\"):   # only files that end in .ppm are image files\n",
        "            f_names.append(label_dir + '/' + f)\n",
        "        # print(f_names)\n",
        "        \"\"\"\n",
        "        Now for each label, append all its images into the list images[] and \n",
        "        append its label number in the list labels[]. \n",
        "        \"\"\"\n",
        "        \n",
        "        for f in f_names:\n",
        "            images.append(skimage.data.imread(f))   #use parameter as_grey??\n",
        "            labels.append(int(i))\n",
        "    return labels, images\n",
        "\n",
        "\n",
        "# Loading the training and testing dataset using the function data_loader().\n",
        "training_data_dir = \"BelgiumTSC_Training/Training/\"\n",
        "testing_data_dir = \"BelgiumTSC_Testing/Testing/\"\n",
        "\n",
        "training_labels, training_images = data_loader(training_data_dir)\n",
        "testing_labels, testing_images = data_loader(testing_data_dir)\n",
        "#print(labels)"
      ],
      "execution_count": 0,
      "outputs": []
    },
    {
      "cell_type": "code",
      "metadata": {
        "id": "xWYP-F1pLS3w",
        "colab_type": "code",
        "outputId": "66c9a9ee-7d7b-42e9-9ed2-cf437474d92d",
        "colab": {
          "base_uri": "https://localhost:8080/",
          "height": 87
        }
      },
      "source": [
        "print(\"No of unique Labels in Training Data: \", len(set(training_labels)), \"\\nTotal number of Images in Training Data: \", len(training_images)) \n",
        "print(\"No of unique Labels in Testing Data: \", len(set(testing_labels)), \"\\nTotal number of Images in Testing Data: \", len(testing_images)) "
      ],
      "execution_count": 85,
      "outputs": [
        {
          "output_type": "stream",
          "text": [
            "No of unique Labels in Training Data:  62 \n",
            "Total number of Images in Training Data:  4575\n",
            "No of unique Labels in Testing Data:  53 \n",
            "Total number of Images in Testing Data:  2520\n"
          ],
          "name": "stdout"
        }
      ]
    },
    {
      "cell_type": "code",
      "metadata": {
        "id": "KphYIFdfYZgv",
        "colab_type": "code",
        "colab": {}
      },
      "source": [
        "def display_images_and_labels(images, labels):\n",
        "    #Display the first image of each label.\n",
        "    unique_labels = set(labels)\n",
        "    plt.figure(figsize=(15, 15))\n",
        "    i = 1\n",
        "    for label in unique_labels:\n",
        "        # Pick the first image for each label.\n",
        "        image = images[labels.index(label)]\n",
        "        plt.subplot(8, 8, i)  # A grid of 8 rows x 8 columns\n",
        "        plt.axis('off')\n",
        "        plt.title(\"Label {0} ({1})\".format(label, labels.count(label)))\n",
        "        i += 1\n",
        "        _ = plt.imshow(image,cmap=\"gray\")\n",
        "    plt.show()\n"
      ],
      "execution_count": 0,
      "outputs": []
    },
    {
      "cell_type": "code",
      "metadata": {
        "id": "895tn4QSPQpK",
        "colab_type": "code",
        "outputId": "048ada11-e1a5-4d0b-fedb-98e8e56dbf42",
        "colab": {
          "base_uri": "https://localhost:8080/",
          "height": 124
        }
      },
      "source": [
        "#Training Data\n",
        "reshape_images_training=[]\n",
        "grayscale_images_training=[]\n",
        "\n",
        "for i in training_images:\n",
        "  reshape_images_training.append(skimage.transform.resize(i,(32,32), mode ='constant'))\n",
        "\n",
        "reshape_images_training= np.array(reshape_images_training)\n",
        "#reshape_images_training = reshape_images_training.astype('float32')\n",
        "print(reshape_images_training.shape)\n",
        "\n",
        "for i in reshape_images_training:\n",
        "  grayscale_images_training.append(color.rgb2gray(i))\n",
        "  \n",
        "grayscale_images_training= np.array(grayscale_images_training)  #Keras expects our images and labels to be in numpy arrays\n",
        "#grayscale_images_training = reshape_images_training.astype('float32')\n",
        "\n",
        "print(\"gray\")\n",
        "print(grayscale_images_training[0].shape)\n",
        "\n",
        "image_expanded_training = grayscale_images_training[:, :, :, np.newaxis]  #converting images from 32x32 to 32x32x1\n",
        "grayscale_images_training=image_expanded_training\n",
        "\n",
        "print(grayscale_images_training[0].shape)\n",
        "\n",
        "\"\"\"\n",
        "\n",
        "#display_images_and_labels(training_images,training_labels)\n",
        "#display_images_and_labels(grayscale_images_training, training_labels)\n",
        "\n",
        "print(\"Grayscale Training images\")\n",
        "print(len(grayscale_images_training))\n",
        "for i in grayscale_images_training[:10]:\n",
        "  print(\"shape: {0}, min: {1}, max: {2}\".format(i.shape, i.min(), i.max()))\n",
        "\n",
        "print(\"Reshaped Training Images \")\n",
        "\n",
        "for i in reshape_images_training[:10]:\n",
        "  print(\"shape: {0}, min: {1}, max: {2}\".format(i.shape, i.min(), i.max()))\n",
        "  \n",
        "\"\"\""
      ],
      "execution_count": 87,
      "outputs": [
        {
          "output_type": "stream",
          "text": [
            "(4575, 32, 32, 3)\n",
            "gray\n",
            "(32, 32)\n",
            "(32, 32, 1)\n"
          ],
          "name": "stdout"
        },
        {
          "output_type": "execute_result",
          "data": {
            "text/plain": [
              "'\\n\\n#display_images_and_labels(training_images,training_labels)\\n#display_images_and_labels(grayscale_images_training, training_labels)\\n\\nprint(\"Grayscale Training images\")\\nprint(len(grayscale_images_training))\\nfor i in grayscale_images_training[:10]:\\n  print(\"shape: {0}, min: {1}, max: {2}\".format(i.shape, i.min(), i.max()))\\n\\nprint(\"Reshaped Training Images \")\\n\\nfor i in reshape_images_training[:10]:\\n  print(\"shape: {0}, min: {1}, max: {2}\".format(i.shape, i.min(), i.max()))\\n  \\n'"
            ]
          },
          "metadata": {
            "tags": []
          },
          "execution_count": 87
        }
      ]
    },
    {
      "cell_type": "code",
      "metadata": {
        "id": "l0wFoRRO1Ru6",
        "colab_type": "code",
        "outputId": "ea2d3ac5-85d0-4257-8d47-57eb0b195768",
        "colab": {
          "base_uri": "https://localhost:8080/",
          "height": 124
        }
      },
      "source": [
        "#Testing Data\n",
        "reshape_images_testing=[]\n",
        "grayscale_images_testing=[]\n",
        "\n",
        "for i in testing_images:\n",
        "  reshape_images_testing.append(skimage.transform.resize(i,(32,32), mode ='constant'))\n",
        "\n",
        "reshape_images_testing= np.array(reshape_images_testing)\n",
        "#reshape_images_testing = reshape_images_testing.astype('float32')\n",
        "print(reshape_images_testing.shape)\n",
        "\n",
        "for i in reshape_images_testing:\n",
        "  grayscale_images_testing.append(color.rgb2gray(i))\n",
        "  \n",
        "grayscale_images_testing= np.array(grayscale_images_testing)\n",
        "#grayscale_images_testing = reshape_images_testing.astype('float32')\n",
        "\n",
        "print(\"gray\")\n",
        "print(grayscale_images_testing[0].shape)\n",
        "\n",
        "image_expanded_testing = grayscale_images_testing[:, :, :, np.newaxis]  #converting imags from 32x32 to 32x32x1\n",
        "grayscale_images_testing=image_expanded_testing\n",
        "\n",
        "print(grayscale_images_testing[0].shape)\n",
        "\n",
        "  \n",
        "\n",
        "#display_images_and_labels(testing_images,testing_labels)\n",
        "#display_images_and_labels(grayscale_images_testing, testing_labels)\n",
        "\n",
        "\"\"\"\n",
        "\n",
        "print(\"Grayscale testing images\")\n",
        "print(len(grayscale_images_testing))\n",
        "for i in grayscale_images_testing[:10]:\n",
        "  print(\"shape: {0}, min: {1}, max: {2}\".format(i.shape, i.min(), i.max()))\n",
        "\n",
        "print(\"Reshaped testing Images \")\n",
        "\n",
        "for i in reshape_images_testing[:10]:\n",
        "  print(\"shape: {0}, min: {1}, max: {2}\".format(i.shape, i.min(), i.max()))\n",
        "\n",
        "\"\"\""
      ],
      "execution_count": 88,
      "outputs": [
        {
          "output_type": "stream",
          "text": [
            "(2520, 32, 32, 3)\n",
            "gray\n",
            "(32, 32)\n",
            "(32, 32, 1)\n"
          ],
          "name": "stdout"
        },
        {
          "output_type": "execute_result",
          "data": {
            "text/plain": [
              "'\\n\\nprint(\"Grayscale testing images\")\\nprint(len(grayscale_images_testing))\\nfor i in grayscale_images_testing[:10]:\\n  print(\"shape: {0}, min: {1}, max: {2}\".format(i.shape, i.min(), i.max()))\\n\\nprint(\"Reshaped testing Images \")\\n\\nfor i in reshape_images_testing[:10]:\\n  print(\"shape: {0}, min: {1}, max: {2}\".format(i.shape, i.min(), i.max()))\\n\\n'"
            ]
          },
          "metadata": {
            "tags": []
          },
          "execution_count": 88
        }
      ]
    },
    {
      "cell_type": "code",
      "metadata": {
        "id": "QdOUPLWL-S0U",
        "colab_type": "code",
        "outputId": "029c30b1-5ed5-43c4-88f2-714c33be8059",
        "colab": {
          "base_uri": "https://localhost:8080/",
          "height": 295
        }
      },
      "source": [
        "#print(training_labels)\n",
        "from keras.utils import to_categorical\n",
        "#one-hot encode target column\n",
        "labels_train = to_categorical(training_labels)\n",
        "labels_test = to_categorical(testing_labels)\n",
        "print(labels_train.shape)\n",
        "print(\"\\n\")\n",
        "print(type(labels_train))\n",
        "print(training_labels[500])\n",
        "print(labels_train[500])\n",
        "\n",
        "#print(testing_labels)\n",
        "print(labels_test.shape)\n",
        "print(\"\\n\")\n",
        "print(type(labels_test))\n",
        "print(testing_labels[500])\n",
        "print(labels_test[500])"
      ],
      "execution_count": 89,
      "outputs": [
        {
          "output_type": "stream",
          "text": [
            "(4575, 62)\n",
            "\n",
            "\n",
            "<class 'numpy.ndarray'>\n",
            "13\n",
            "[0. 0. 0. 0. 0. 0. 0. 0. 0. 0. 0. 0. 0. 1. 0. 0. 0. 0. 0. 0. 0. 0. 0. 0.\n",
            " 0. 0. 0. 0. 0. 0. 0. 0. 0. 0. 0. 0. 0. 0. 0. 0. 0. 0. 0. 0. 0. 0. 0. 0.\n",
            " 0. 0. 0. 0. 0. 0. 0. 0. 0. 0. 0. 0. 0. 0.]\n",
            "(2520, 62)\n",
            "\n",
            "\n",
            "<class 'numpy.ndarray'>\n",
            "18\n",
            "[0. 0. 0. 0. 0. 0. 0. 0. 0. 0. 0. 0. 0. 0. 0. 0. 0. 0. 1. 0. 0. 0. 0. 0.\n",
            " 0. 0. 0. 0. 0. 0. 0. 0. 0. 0. 0. 0. 0. 0. 0. 0. 0. 0. 0. 0. 0. 0. 0. 0.\n",
            " 0. 0. 0. 0. 0. 0. 0. 0. 0. 0. 0. 0. 0. 0.]\n"
          ],
          "name": "stdout"
        }
      ]
    },
    {
      "cell_type": "code",
      "metadata": {
        "id": "NhHs9qrNAV5g",
        "colab_type": "code",
        "colab": {}
      },
      "source": [
        "\n",
        "\n",
        "from keras.models import Sequential\n",
        "from keras.layers import Dense, Conv2D, Flatten\n",
        "\n",
        "model_gen = Sequential()\n",
        "model_gen.add(Conv2D(32, (3, 3), strides=(1, 1), padding='same', activation='relu', input_shape=grayscale_images_training[0].shape))  #When using this layer as the first layer in a model, we provide the keyword argument \"input_shape\"\n",
        "#model_gen.add(Conv2D(32, (3, 3), activation='relu'))\n",
        "model_gen.add(MaxPooling2D(pool_size=(2, 2)))\n",
        "model_gen.add(Dropout(0.25))\n",
        " \n",
        "model_gen.add(Conv2D(64, (3, 3), strides=(1, 1), padding='same', activation='relu'))\n",
        "#model_gen.add(Conv2D(64, (3, 3), activation='relu'))\n",
        "model_gen.add(MaxPooling2D(pool_size=(2, 2)))\n",
        "model_gen.add(Dropout(0.25))\n",
        " \n",
        "model_gen.add(Conv2D(64, (3, 3), strides=(1, 1), padding='same', activation='relu'))\n",
        "#model_gen.add(Conv2D(64, (3, 3), activation='relu'))\n",
        "model_gen.add(MaxPooling2D(pool_size=(2, 2)))\n",
        "model_gen.add(Dropout(0.25))\n",
        " \n",
        "model_gen.add(Flatten())\n",
        "model_gen.add(Dense(512, activation='relu')) # we can drop \n",
        "model_gen.add(Dropout(0.5))                  # this layers\n",
        "model_gen.add(Dense(512, activation='relu'))\n",
        "model_gen.add(Dropout(0.5))\n",
        "model_gen.add(Dense(62, activation='softmax'))"
      ],
      "execution_count": 0,
      "outputs": []
    },
    {
      "cell_type": "code",
      "metadata": {
        "id": "2JE-NktqGCzi",
        "colab_type": "code",
        "colab": {}
      },
      "source": [
        "model_gen.compile(optimizer='rmsprop', loss='categorical_crossentropy', metrics=['accuracy'])"
      ],
      "execution_count": 0,
      "outputs": []
    },
    {
      "cell_type": "code",
      "metadata": {
        "id": "H7_3lHXzrVmK",
        "colab_type": "code",
        "outputId": "2f014377-b904-42f2-ff7c-63f6862aa62a",
        "colab": {
          "base_uri": "https://localhost:8080/",
          "height": 55
        }
      },
      "source": [
        "from google.colab import drive\n",
        "drive.mount('/content/drive')"
      ],
      "execution_count": 0,
      "outputs": [
        {
          "output_type": "stream",
          "text": [
            "Drive already mounted at /content/drive; to attempt to forcibly remount, call drive.mount(\"/content/drive\", force_remount=True).\n"
          ],
          "name": "stdout"
        }
      ]
    },
    {
      "cell_type": "code",
      "metadata": {
        "id": "Zw0TTj6ovmlb",
        "colab_type": "code",
        "colab": {}
      },
      "source": [
        "#Creating checkpoint to store the best model based on validation accuracy\n",
        "from keras.callbacks import ModelCheckpoint\n",
        "filepath=\"/content/drive/My Drive/ML-Proj/Best_Weights.hdf5\"\n",
        "checkpoint = ModelCheckpoint(filepath, monitor='val_acc', verbose=1, save_best_only=True, mode='max')\n",
        "callbacks_list = [checkpoint]"
      ],
      "execution_count": 0,
      "outputs": []
    },
    {
      "cell_type": "code",
      "metadata": {
        "id": "KM_5WeumGPmJ",
        "colab_type": "code",
        "outputId": "5e69c6e2-b2b7-4a04-ab57-7d87fac38942",
        "colab": {
          "base_uri": "https://localhost:8080/",
          "height": 1000
        }
      },
      "source": [
        "from keras.preprocessing.image import ImageDataGenerator\n",
        "\n",
        "# we can use image augmentation\n",
        "# basically it needs to redifine for normal actual scores like 0.9 of accuracy and more\n",
        "datagen = ImageDataGenerator(\n",
        "    featurewise_center=True,\n",
        "    featurewise_std_normalization=False,\n",
        "    rotation_range=12,\n",
        "    width_shift_range=0.2,\n",
        "    height_shift_range=0.2,\n",
        "    horizontal_flip=False)\n",
        "\n",
        "datagen.fit(grayscale_images_training)\n",
        "\n",
        "\n",
        "%time\n",
        "epochs=50\n",
        "batch_size = 20\n",
        "history_generator = model_gen.fit_generator(datagen.flow(grayscale_images_training, labels_train, batch_size=batch_size),\n",
        "                    epochs=epochs, steps_per_epoch=500 , callbacks=callbacks_list, verbose=1,\n",
        "                    validation_data=(grayscale_images_testing, labels_test))"
      ],
      "execution_count": 0,
      "outputs": [
        {
          "output_type": "stream",
          "text": [
            "CPU times: user 4 µs, sys: 0 ns, total: 4 µs\n",
            "Wall time: 6.91 µs\n",
            "Epoch 1/50\n",
            "500/500 [==============================] - 9s 17ms/step - loss: 3.1971 - acc: 0.2066 - val_loss: 2.4247 - val_acc: 0.3905\n",
            "\n",
            "Epoch 00001: val_acc improved from -inf to 0.39048, saving model to /content/drive/My Drive/ML-Proj/Best_Weights.hdf5\n",
            "Epoch 2/50\n",
            "500/500 [==============================] - 8s 16ms/step - loss: 2.0929 - acc: 0.4477 - val_loss: 1.5789 - val_acc: 0.5683\n",
            "\n",
            "Epoch 00002: val_acc improved from 0.39048 to 0.56825, saving model to /content/drive/My Drive/ML-Proj/Best_Weights.hdf5\n",
            "Epoch 3/50\n",
            "500/500 [==============================] - 8s 16ms/step - loss: 1.6283 - acc: 0.5622 - val_loss: 1.4372 - val_acc: 0.6135\n",
            "\n",
            "Epoch 00003: val_acc improved from 0.56825 to 0.61349, saving model to /content/drive/My Drive/ML-Proj/Best_Weights.hdf5\n",
            "Epoch 4/50\n",
            "500/500 [==============================] - 8s 16ms/step - loss: 1.3833 - acc: 0.6239 - val_loss: 1.4677 - val_acc: 0.6075\n",
            "\n",
            "Epoch 00004: val_acc did not improve from 0.61349\n",
            "Epoch 5/50\n",
            "500/500 [==============================] - 8s 16ms/step - loss: 1.2682 - acc: 0.6539 - val_loss: 1.2212 - val_acc: 0.6702\n",
            "\n",
            "Epoch 00005: val_acc improved from 0.61349 to 0.67024, saving model to /content/drive/My Drive/ML-Proj/Best_Weights.hdf5\n",
            "Epoch 6/50\n",
            "500/500 [==============================] - 8s 16ms/step - loss: 1.2227 - acc: 0.6668 - val_loss: 1.4501 - val_acc: 0.5972\n",
            "\n",
            "Epoch 00006: val_acc did not improve from 0.67024\n",
            "Epoch 7/50\n",
            "500/500 [==============================] - 8s 16ms/step - loss: 1.1948 - acc: 0.6765 - val_loss: 1.4594 - val_acc: 0.5718\n",
            "\n",
            "Epoch 00007: val_acc did not improve from 0.67024\n",
            "Epoch 8/50\n",
            "500/500 [==============================] - 8s 16ms/step - loss: 1.1982 - acc: 0.6758 - val_loss: 1.1520 - val_acc: 0.7004\n",
            "\n",
            "Epoch 00008: val_acc improved from 0.67024 to 0.70040, saving model to /content/drive/My Drive/ML-Proj/Best_Weights.hdf5\n",
            "Epoch 9/50\n",
            "500/500 [==============================] - 8s 16ms/step - loss: 1.2199 - acc: 0.6791 - val_loss: 1.2002 - val_acc: 0.6921\n",
            "\n",
            "Epoch 00009: val_acc did not improve from 0.70040\n",
            "Epoch 10/50\n",
            "500/500 [==============================] - 8s 16ms/step - loss: 1.2195 - acc: 0.6748 - val_loss: 1.1608 - val_acc: 0.7230\n",
            "\n",
            "Epoch 00010: val_acc improved from 0.70040 to 0.72302, saving model to /content/drive/My Drive/ML-Proj/Best_Weights.hdf5\n",
            "Epoch 11/50\n",
            "500/500 [==============================] - 8s 16ms/step - loss: 1.2744 - acc: 0.6729 - val_loss: 1.2202 - val_acc: 0.6786\n",
            "\n",
            "Epoch 00011: val_acc did not improve from 0.72302\n",
            "Epoch 12/50\n",
            "500/500 [==============================] - 8s 16ms/step - loss: 1.2967 - acc: 0.6669 - val_loss: 1.5517 - val_acc: 0.5976\n",
            "\n",
            "Epoch 00012: val_acc did not improve from 0.72302\n",
            "Epoch 13/50\n",
            "500/500 [==============================] - 8s 16ms/step - loss: 1.2997 - acc: 0.6632 - val_loss: 1.4887 - val_acc: 0.6258\n",
            "\n",
            "Epoch 00013: val_acc did not improve from 0.72302\n",
            "Epoch 14/50\n",
            "500/500 [==============================] - 8s 16ms/step - loss: 1.3294 - acc: 0.6585 - val_loss: 1.6816 - val_acc: 0.5877\n",
            "\n",
            "Epoch 00014: val_acc did not improve from 0.72302\n",
            "Epoch 15/50\n",
            "500/500 [==============================] - 8s 16ms/step - loss: 1.3381 - acc: 0.6534 - val_loss: 1.6890 - val_acc: 0.5710\n",
            "\n",
            "Epoch 00015: val_acc did not improve from 0.72302\n",
            "Epoch 16/50\n",
            "500/500 [==============================] - 8s 16ms/step - loss: 1.3466 - acc: 0.6564 - val_loss: 1.4728 - val_acc: 0.6417\n",
            "\n",
            "Epoch 00016: val_acc did not improve from 0.72302\n",
            "Epoch 17/50\n",
            "500/500 [==============================] - 8s 16ms/step - loss: 1.4456 - acc: 0.6415 - val_loss: 1.6435 - val_acc: 0.5893\n",
            "\n",
            "Epoch 00017: val_acc did not improve from 0.72302\n",
            "Epoch 18/50\n",
            "500/500 [==============================] - 8s 15ms/step - loss: 1.4349 - acc: 0.6405 - val_loss: 1.9382 - val_acc: 0.5183\n",
            "\n",
            "Epoch 00018: val_acc did not improve from 0.72302\n",
            "Epoch 19/50\n",
            "500/500 [==============================] - 8s 16ms/step - loss: 1.4513 - acc: 0.6353 - val_loss: 1.7713 - val_acc: 0.5405\n",
            "\n",
            "Epoch 00019: val_acc did not improve from 0.72302\n",
            "Epoch 20/50\n",
            "500/500 [==============================] - 8s 15ms/step - loss: 1.5205 - acc: 0.6309 - val_loss: 1.9171 - val_acc: 0.4980\n",
            "\n",
            "Epoch 00020: val_acc did not improve from 0.72302\n",
            "Epoch 21/50\n",
            "500/500 [==============================] - 8s 16ms/step - loss: 1.5072 - acc: 0.6279 - val_loss: 2.3606 - val_acc: 0.4143\n",
            "\n",
            "Epoch 00021: val_acc did not improve from 0.72302\n",
            "Epoch 22/50\n",
            "500/500 [==============================] - 8s 16ms/step - loss: 1.5258 - acc: 0.6178 - val_loss: 1.5934 - val_acc: 0.5968\n",
            "\n",
            "Epoch 00022: val_acc did not improve from 0.72302\n",
            "Epoch 23/50\n",
            "500/500 [==============================] - 8s 16ms/step - loss: 1.5779 - acc: 0.6196 - val_loss: 1.8434 - val_acc: 0.5270\n",
            "\n",
            "Epoch 00023: val_acc did not improve from 0.72302\n",
            "Epoch 24/50\n",
            "500/500 [==============================] - 8s 16ms/step - loss: 1.5688 - acc: 0.6177 - val_loss: 1.6776 - val_acc: 0.5869\n",
            "\n",
            "Epoch 00024: val_acc did not improve from 0.72302\n",
            "Epoch 25/50\n",
            "500/500 [==============================] - 8s 16ms/step - loss: 1.6089 - acc: 0.6123 - val_loss: 1.9049 - val_acc: 0.5167\n",
            "\n",
            "Epoch 00025: val_acc did not improve from 0.72302\n",
            "Epoch 26/50\n",
            "500/500 [==============================] - 8s 16ms/step - loss: 1.6617 - acc: 0.6054 - val_loss: 2.2256 - val_acc: 0.4464\n",
            "\n",
            "Epoch 00026: val_acc did not improve from 0.72302\n",
            "Epoch 27/50\n",
            "500/500 [==============================] - 8s 16ms/step - loss: 1.6831 - acc: 0.5988 - val_loss: 2.4337 - val_acc: 0.4091\n",
            "\n",
            "Epoch 00027: val_acc did not improve from 0.72302\n",
            "Epoch 28/50\n",
            "500/500 [==============================] - 8s 16ms/step - loss: 1.7128 - acc: 0.5949 - val_loss: 2.1645 - val_acc: 0.4325\n",
            "\n",
            "Epoch 00028: val_acc did not improve from 0.72302\n",
            "Epoch 29/50\n",
            "500/500 [==============================] - 8s 16ms/step - loss: 1.6801 - acc: 0.5990 - val_loss: 1.8115 - val_acc: 0.5766\n",
            "\n",
            "Epoch 00029: val_acc did not improve from 0.72302\n",
            "Epoch 30/50\n",
            "500/500 [==============================] - 8s 16ms/step - loss: 1.7048 - acc: 0.5951 - val_loss: 2.1262 - val_acc: 0.4528\n",
            "\n",
            "Epoch 00030: val_acc did not improve from 0.72302\n",
            "Epoch 31/50\n",
            "500/500 [==============================] - 8s 16ms/step - loss: 1.7225 - acc: 0.5898 - val_loss: 1.5142 - val_acc: 0.6313\n",
            "\n",
            "Epoch 00031: val_acc did not improve from 0.72302\n",
            "Epoch 32/50\n",
            "500/500 [==============================] - 8s 16ms/step - loss: 1.7414 - acc: 0.5808 - val_loss: 2.5127 - val_acc: 0.4869\n",
            "\n",
            "Epoch 00032: val_acc did not improve from 0.72302\n",
            "Epoch 33/50\n",
            "500/500 [==============================] - 8s 16ms/step - loss: 1.7532 - acc: 0.5825 - val_loss: 2.5296 - val_acc: 0.3742\n",
            "\n",
            "Epoch 00033: val_acc did not improve from 0.72302\n",
            "Epoch 34/50\n",
            "500/500 [==============================] - 8s 16ms/step - loss: 1.7859 - acc: 0.5761 - val_loss: 2.2829 - val_acc: 0.4016\n",
            "\n",
            "Epoch 00034: val_acc did not improve from 0.72302\n",
            "Epoch 35/50\n",
            "500/500 [==============================] - 8s 16ms/step - loss: 1.8168 - acc: 0.5648 - val_loss: 1.9047 - val_acc: 0.5242\n",
            "\n",
            "Epoch 00035: val_acc did not improve from 0.72302\n",
            "Epoch 36/50\n",
            "500/500 [==============================] - 8s 16ms/step - loss: 1.7862 - acc: 0.5692 - val_loss: 2.3242 - val_acc: 0.4401\n",
            "\n",
            "Epoch 00036: val_acc did not improve from 0.72302\n",
            "Epoch 37/50\n",
            "500/500 [==============================] - 8s 15ms/step - loss: 1.8982 - acc: 0.5667 - val_loss: 2.9847 - val_acc: 0.2702\n",
            "\n",
            "Epoch 00037: val_acc did not improve from 0.72302\n",
            "Epoch 38/50\n",
            "500/500 [==============================] - 8s 15ms/step - loss: 1.8174 - acc: 0.5686 - val_loss: 2.9515 - val_acc: 0.2944\n",
            "\n",
            "Epoch 00038: val_acc did not improve from 0.72302\n",
            "Epoch 39/50\n",
            "500/500 [==============================] - 8s 16ms/step - loss: 1.8682 - acc: 0.5524 - val_loss: 2.0681 - val_acc: 0.4865\n",
            "\n",
            "Epoch 00039: val_acc did not improve from 0.72302\n",
            "Epoch 40/50\n",
            "500/500 [==============================] - 8s 16ms/step - loss: 1.9097 - acc: 0.5498 - val_loss: 2.3363 - val_acc: 0.4159\n",
            "\n",
            "Epoch 00040: val_acc did not improve from 0.72302\n",
            "Epoch 41/50\n",
            "500/500 [==============================] - 8s 16ms/step - loss: 1.9675 - acc: 0.5441 - val_loss: 2.0566 - val_acc: 0.4877\n",
            "\n",
            "Epoch 00041: val_acc did not improve from 0.72302\n",
            "Epoch 42/50\n",
            "500/500 [==============================] - 8s 16ms/step - loss: 1.9092 - acc: 0.5576 - val_loss: 2.4999 - val_acc: 0.3841\n",
            "\n",
            "Epoch 00042: val_acc did not improve from 0.72302\n",
            "Epoch 43/50\n",
            "500/500 [==============================] - 8s 16ms/step - loss: 1.8956 - acc: 0.5504 - val_loss: 2.7487 - val_acc: 0.3123\n",
            "\n",
            "Epoch 00043: val_acc did not improve from 0.72302\n",
            "Epoch 44/50\n",
            "500/500 [==============================] - 8s 16ms/step - loss: 1.9473 - acc: 0.5457 - val_loss: 2.5127 - val_acc: 0.3905\n",
            "\n",
            "Epoch 00044: val_acc did not improve from 0.72302\n",
            "Epoch 45/50\n",
            "500/500 [==============================] - 8s 16ms/step - loss: 1.9199 - acc: 0.5493 - val_loss: 2.4792 - val_acc: 0.3762\n",
            "\n",
            "Epoch 00045: val_acc did not improve from 0.72302\n",
            "Epoch 46/50\n",
            "500/500 [==============================] - 8s 16ms/step - loss: 1.9471 - acc: 0.5477 - val_loss: 2.4880 - val_acc: 0.3837\n",
            "\n",
            "Epoch 00046: val_acc did not improve from 0.72302\n",
            "Epoch 47/50\n",
            "500/500 [==============================] - 8s 16ms/step - loss: 1.9675 - acc: 0.5369 - val_loss: 2.2210 - val_acc: 0.4631\n",
            "\n",
            "Epoch 00047: val_acc did not improve from 0.72302\n",
            "Epoch 48/50\n",
            "500/500 [==============================] - 8s 16ms/step - loss: 1.9948 - acc: 0.5329 - val_loss: 2.3175 - val_acc: 0.5571\n",
            "\n",
            "Epoch 00048: val_acc did not improve from 0.72302\n",
            "Epoch 49/50\n",
            "500/500 [==============================] - 8s 16ms/step - loss: 1.9883 - acc: 0.5310 - val_loss: 2.5897 - val_acc: 0.3468\n",
            "\n",
            "Epoch 00049: val_acc did not improve from 0.72302\n",
            "Epoch 50/50\n",
            "500/500 [==============================] - 8s 16ms/step - loss: 2.0100 - acc: 0.5346 - val_loss: 2.2698 - val_acc: 0.4504\n",
            "\n",
            "Epoch 00050: val_acc did not improve from 0.72302\n"
          ],
          "name": "stdout"
        }
      ]
    },
    {
      "cell_type": "code",
      "metadata": {
        "id": "-O13y7Ks0WQQ",
        "colab_type": "code",
        "colab": {}
      },
      "source": [
        "#Loading Best Weights\n",
        "model_gen.load_weights(\"/content/drive/My Drive/ML-Proj/Best_Weights.hdf5\")\n",
        "#Saving Best Model\n",
        "model_gen.save(\"/content/drive/My Drive/ML-Proj/Best_Model.h5\")"
      ],
      "execution_count": 0,
      "outputs": []
    },
    {
      "cell_type": "code",
      "metadata": {
        "id": "Wg1xE6pF2AZv",
        "colab_type": "code",
        "outputId": "15c4e288-10e3-4903-a466-844942698888",
        "colab": {
          "base_uri": "https://localhost:8080/",
          "height": 104
        }
      },
      "source": [
        "#Predicting Traffic Signs\n",
        "y_te_pred = model_gen.predict_classes(grayscale_images_testing, batch_size=batch_size, verbose =1)\n",
        "print(y_te_pred.shape)\n",
        "print(type(y_te_pred))\n",
        "pred_value=1500\n",
        "print(y_te_pred[pred_value])\n",
        "print(testing_labels[pred_value])"
      ],
      "execution_count": 105,
      "outputs": [
        {
          "output_type": "stream",
          "text": [
            "2520/2520 [==============================] - 0s 136us/step\n",
            "(2520,)\n",
            "<class 'numpy.ndarray'>\n",
            "32\n",
            "32\n"
          ],
          "name": "stdout"
        }
      ]
    },
    {
      "cell_type": "code",
      "metadata": {
        "id": "WfHn-OqU4AdN",
        "colab_type": "code",
        "outputId": "8bc86413-098e-46f5-9cd1-10a52dc64dd9",
        "colab": {
          "base_uri": "https://localhost:8080/",
          "height": 69
        }
      },
      "source": [
        "scores = model_gen.evaluate(grayscale_images_testing, labels_test)\n",
        "print(scores[0])    #Loss\n",
        "print(scores[1])    #Accuracy"
      ],
      "execution_count": 106,
      "outputs": [
        {
          "output_type": "stream",
          "text": [
            "2520/2520 [==============================] - 0s 194us/step\n",
            "1.1607578171269288\n",
            "0.7230158728266519\n"
          ],
          "name": "stdout"
        }
      ]
    }
  ]
}