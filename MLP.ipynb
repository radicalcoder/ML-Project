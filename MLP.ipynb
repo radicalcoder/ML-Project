{
  "nbformat": 4,
  "nbformat_minor": 0,
  "metadata": {
    "colab": {
      "name": "Untitled1.ipynb",
      "provenance": [],
      "include_colab_link": true
    },
    "kernelspec": {
      "name": "python3",
      "display_name": "Python 3"
    },
    "accelerator": "GPU"
  },
  "cells": [
    {
      "cell_type": "markdown",
      "metadata": {
        "id": "view-in-github",
        "colab_type": "text"
      },
      "source": [
        "<a href=\"https://colab.research.google.com/github/radicalcoder/ML-Project/blob/master/MLP.ipynb\" target=\"_parent\"><img src=\"https://colab.research.google.com/assets/colab-badge.svg\" alt=\"Open In Colab\"/></a>"
      ]
    },
    {
      "cell_type": "code",
      "metadata": {
        "id": "pWq7yyS0HsIR",
        "colab_type": "code",
        "outputId": "a64a9a0e-dd2b-40d5-9058-10779cf5aa91",
        "colab": {
          "base_uri": "https://localhost:8080/",
          "height": 289
        }
      },
      "source": [
        "import os\n",
        "import random\n",
        "import matplotlib\n",
        "import matplotlib.pyplot as plt\n",
        "import skimage\n",
        "import skimage.data\n",
        "import skimage.transform\n",
        "import tensorflow as tf\n",
        "import numpy as np\n",
        "import pandas as pd\n",
        "from sklearn.metrics import confusion_matrix, classification_report, accuracy_score\n",
        "import itertools\n",
        "from keras import models\n",
        "from keras.preprocessing import image\n",
        "from PIL import Image\n",
        "from keras.models import Sequential\n",
        "import keras\n",
        "import PIL\n",
        "from skimage import io\n",
        "from skimage import color\n",
        "from keras.layers import Dense, Conv2D, Flatten, MaxPooling2D, Dropout\n",
        "\n",
        "\n",
        "\n",
        "# To read the data directory from repository on github.\n",
        "%matplotlib inline\n",
        "!git clone -l -s https://github.com/radicalcoder/ML-Project.git data\n",
        "%cd data\n",
        "!ls"
      ],
      "execution_count": 1,
      "outputs": [
        {
          "output_type": "display_data",
          "data": {
            "text/html": [
              "<p style=\"color: red;\">\n",
              "The default version of TensorFlow in Colab will soon switch to TensorFlow 2.x.<br>\n",
              "We recommend you <a href=\"https://www.tensorflow.org/guide/migrate\" target=\"_blank\">upgrade</a> now \n",
              "or ensure your notebook will continue to use TensorFlow 1.x via the <code>%tensorflow_version 1.x</code> magic:\n",
              "<a href=\"https://colab.research.google.com/notebooks/tensorflow_version.ipynb\" target=\"_blank\">more info</a>.</p>\n"
            ],
            "text/plain": [
              "<IPython.core.display.HTML object>"
            ]
          },
          "metadata": {
            "tags": []
          }
        },
        {
          "output_type": "stream",
          "text": [
            "Using TensorFlow backend.\n"
          ],
          "name": "stderr"
        },
        {
          "output_type": "stream",
          "text": [
            "Cloning into 'data'...\n",
            "warning: --local is ignored\n",
            "remote: Enumerating objects: 63, done.\u001b[K\n",
            "remote: Counting objects: 100% (63/63), done.\u001b[K\n",
            "remote: Compressing objects: 100% (62/62), done.\u001b[K\n",
            "remote: Total 7412 (delta 38), reused 0 (delta 0), pack-reused 7349\u001b[K\n",
            "Receiving objects: 100% (7412/7412), 248.14 MiB | 37.65 MiB/s, done.\n",
            "Resolving deltas: 100% (41/41), done.\n",
            "Checking out files: 100% (7225/7225), done.\n",
            "/content/data\n",
            "BelgiumTSC_Testing   MLP_final_initialdraft.ipynb  README.md\n",
            "BelgiumTSC_Training  MLP.ipynb\t\t\t   traffic.py\n"
          ],
          "name": "stdout"
        }
      ]
    },
    {
      "cell_type": "code",
      "metadata": {
        "id": "bP04wnwpKWTg",
        "colab_type": "code",
        "colab": {}
      },
      "source": [
        "def data_loader(data_dir):\n",
        "    \"\"\"\n",
        "    The data set is read into two lists, as follows:\n",
        "    list labels[] -> a list of numbers, where each number represents a unique image label.\n",
        "    list images[] -> a list of arrays, where each array represents a single image.\n",
        "    \n",
        "    The data set directory contains multiple subdirectories. We read all these \n",
        "    subdirectories into a list subdirs[]. Since the subfolders are read in a random order, the list\n",
        "    is also in a random order. We then sort this array using the sort() function.\n",
        "    \"\"\"\n",
        "    \n",
        "    subdirs = []\n",
        "    for i in os.listdir(data_dir):\n",
        "      if os.path.isdir(data_dir + i):   # There may be .txt files in the data_dir hence we need to check\n",
        "        subdirs.append(i)\n",
        "\n",
        "    subdirs.sort()\n",
        "    \n",
        "    \"\"\"\n",
        "    Data is now collected into two lists - labels & images - while looping through the \n",
        "    list subdirs[].    \n",
        "    \"\"\"\n",
        "\n",
        "    labels = []\n",
        "    images = []\n",
        "    for i in subdirs:\n",
        "        label_dir = data_dir + i\n",
        "        #print(label_dir)\n",
        "        f_names=[]\n",
        "        for f in os.listdir(label_dir):\n",
        "          if f.endswith(\".ppm\"):   # only files that end in .ppm are image files\n",
        "            f_names.append(label_dir + '/' + f)\n",
        "        # print(f_names)\n",
        "        \"\"\"\n",
        "        Now for each label, append all its images into the list images[] and \n",
        "        append its label number in the list labels[]. \n",
        "        \"\"\"\n",
        "        \n",
        "        for f in f_names:\n",
        "            images.append(skimage.data.imread(f))   #use parameter as_grey??\n",
        "            labels.append(int(i))\n",
        "    return labels, images\n",
        "\n",
        "\n",
        "# Loading the training and testing dataset using the function data_loader().\n",
        "training_data_dir = \"BelgiumTSC_Training/Training/\"\n",
        "testing_data_dir = \"BelgiumTSC_Testing/Testing/\"\n",
        "\n",
        "training_labels, training_images = data_loader(training_data_dir)\n",
        "testing_labels, testing_images = data_loader(testing_data_dir)\n",
        "#print(labels)"
      ],
      "execution_count": 0,
      "outputs": []
    },
    {
      "cell_type": "code",
      "metadata": {
        "id": "xWYP-F1pLS3w",
        "colab_type": "code",
        "outputId": "114b8607-faf7-4a90-9f71-e4e66b6bb8dc",
        "colab": {
          "base_uri": "https://localhost:8080/",
          "height": 87
        }
      },
      "source": [
        "print(\"No of unique Labels in Training Data: \", len(set(training_labels)), \"\\nTotal number of Images in Training Data: \", len(training_images)) \n",
        "print(\"No of unique Labels in Testing Data: \", len(set(testing_labels)), \"\\nTotal number of Images in Testing Data: \", len(testing_images)) "
      ],
      "execution_count": 3,
      "outputs": [
        {
          "output_type": "stream",
          "text": [
            "No of unique Labels in Training Data:  62 \n",
            "Total number of Images in Training Data:  4575\n",
            "No of unique Labels in Testing Data:  53 \n",
            "Total number of Images in Testing Data:  2520\n"
          ],
          "name": "stdout"
        }
      ]
    },
    {
      "cell_type": "code",
      "metadata": {
        "id": "KphYIFdfYZgv",
        "colab_type": "code",
        "colab": {}
      },
      "source": [
        "def display_images_and_labels(images, labels):\n",
        "    #Display the first image of each label.\n",
        "    unique_labels = set(labels)\n",
        "    plt.figure(figsize=(15, 15))\n",
        "    i = 1\n",
        "    for label in unique_labels:\n",
        "        # Pick the first image for each label.\n",
        "        image = images[labels.index(label)]\n",
        "        plt.subplot(8, 8, i)  # A grid of 8 rows x 8 columns\n",
        "        plt.axis('off')\n",
        "        plt.title(\"Label {0} ({1})\".format(label, labels.count(label)))\n",
        "        i += 1\n",
        "        _ = plt.imshow(image,cmap=\"gray\")\n",
        "    plt.show()\n"
      ],
      "execution_count": 0,
      "outputs": []
    },
    {
      "cell_type": "code",
      "metadata": {
        "id": "895tn4QSPQpK",
        "colab_type": "code",
        "outputId": "133a8527-2886-47e4-a72a-55e21701f185",
        "colab": {
          "base_uri": "https://localhost:8080/",
          "height": 124
        }
      },
      "source": [
        "#Training Data\n",
        "reshape_images_training=[]\n",
        "grayscale_images_training=[]\n",
        "\n",
        "for i in training_images:\n",
        "  reshape_images_training.append(skimage.transform.resize(i,(32,32), mode ='constant'))\n",
        "\n",
        "reshape_images_training= np.array(reshape_images_training)\n",
        "#reshape_images_training = reshape_images_training.astype('float32')\n",
        "print(reshape_images_training.shape)\n",
        "\n",
        "for i in reshape_images_training:\n",
        "  grayscale_images_training.append(color.rgb2gray(i))\n",
        "  \n",
        "grayscale_images_training= np.array(grayscale_images_training)  #Keras expects our images and labels to be in numpy arrays\n",
        "#grayscale_images_training = reshape_images_training.astype('float32')\n",
        "\n",
        "print(\"gray\")\n",
        "print(grayscale_images_training[0].shape)\n",
        "\n",
        "image_expanded_training = grayscale_images_training[:, :, :, np.newaxis]  #converting images from 32x32 to 32x32x1\n",
        "grayscale_images_training=image_expanded_training\n",
        "\n",
        "print(grayscale_images_training[0].shape)\n",
        "\n",
        "\"\"\"\n",
        "\n",
        "#display_images_and_labels(training_images,training_labels)\n",
        "#display_images_and_labels(grayscale_images_training, training_labels)\n",
        "\n",
        "print(\"Grayscale Training images\")\n",
        "print(len(grayscale_images_training))\n",
        "for i in grayscale_images_training[:10]:\n",
        "  print(\"shape: {0}, min: {1}, max: {2}\".format(i.shape, i.min(), i.max()))\n",
        "\n",
        "print(\"Reshaped Training Images \")\n",
        "\n",
        "for i in reshape_images_training[:10]:\n",
        "  print(\"shape: {0}, min: {1}, max: {2}\".format(i.shape, i.min(), i.max()))\n",
        "  \n",
        "\"\"\""
      ],
      "execution_count": 9,
      "outputs": [
        {
          "output_type": "stream",
          "text": [
            "(4575, 32, 32, 3)\n",
            "gray\n",
            "(32, 32)\n",
            "(32, 32, 1)\n"
          ],
          "name": "stdout"
        },
        {
          "output_type": "execute_result",
          "data": {
            "text/plain": [
              "'\\n\\n#display_images_and_labels(training_images,training_labels)\\n#display_images_and_labels(grayscale_images_training, training_labels)\\n\\nprint(\"Grayscale Training images\")\\nprint(len(grayscale_images_training))\\nfor i in grayscale_images_training[:10]:\\n  print(\"shape: {0}, min: {1}, max: {2}\".format(i.shape, i.min(), i.max()))\\n\\nprint(\"Reshaped Training Images \")\\n\\nfor i in reshape_images_training[:10]:\\n  print(\"shape: {0}, min: {1}, max: {2}\".format(i.shape, i.min(), i.max()))\\n  \\n'"
            ]
          },
          "metadata": {
            "tags": []
          },
          "execution_count": 9
        }
      ]
    },
    {
      "cell_type": "code",
      "metadata": {
        "id": "l0wFoRRO1Ru6",
        "colab_type": "code",
        "outputId": "9ce1cec7-53cb-493a-b89d-bf172cd61d5b",
        "colab": {
          "base_uri": "https://localhost:8080/",
          "height": 124
        }
      },
      "source": [
        "#Testing Data\n",
        "reshape_images_testing=[]\n",
        "grayscale_images_testing=[]\n",
        "\n",
        "for i in testing_images:\n",
        "  reshape_images_testing.append(skimage.transform.resize(i,(32,32), mode ='constant'))\n",
        "\n",
        "reshape_images_testing= np.array(reshape_images_testing)\n",
        "#reshape_images_testing = reshape_images_testing.astype('float32')\n",
        "print(reshape_images_testing.shape)\n",
        "\n",
        "for i in reshape_images_testing:\n",
        "  grayscale_images_testing.append(color.rgb2gray(i))\n",
        "  \n",
        "grayscale_images_testing= np.array(grayscale_images_testing)\n",
        "#grayscale_images_testing = reshape_images_testing.astype('float32')\n",
        "\n",
        "print(\"gray\")\n",
        "print(grayscale_images_testing[0].shape)\n",
        "\n",
        "image_expanded_testing = grayscale_images_testing[:, :, :, np.newaxis]  #converting imags from 32x32 to 32x32x1\n",
        "grayscale_images_testing=image_expanded_testing\n",
        "\n",
        "print(grayscale_images_testing[0].shape)\n",
        "\n",
        "  \n",
        "\n",
        "#display_images_and_labels(testing_images,testing_labels)\n",
        "#display_images_and_labels(grayscale_images_testing, testing_labels)\n",
        "\n",
        "\"\"\"\n",
        "\n",
        "print(\"Grayscale testing images\")\n",
        "print(len(grayscale_images_testing))\n",
        "for i in grayscale_images_testing[:10]:\n",
        "  print(\"shape: {0}, min: {1}, max: {2}\".format(i.shape, i.min(), i.max()))\n",
        "\n",
        "print(\"Reshaped testing Images \")\n",
        "\n",
        "for i in reshape_images_testing[:10]:\n",
        "  print(\"shape: {0}, min: {1}, max: {2}\".format(i.shape, i.min(), i.max()))\n",
        "\n",
        "\"\"\""
      ],
      "execution_count": 10,
      "outputs": [
        {
          "output_type": "stream",
          "text": [
            "(2520, 32, 32, 3)\n",
            "gray\n",
            "(32, 32)\n",
            "(32, 32, 1)\n"
          ],
          "name": "stdout"
        },
        {
          "output_type": "execute_result",
          "data": {
            "text/plain": [
              "'\\n\\nprint(\"Grayscale testing images\")\\nprint(len(grayscale_images_testing))\\nfor i in grayscale_images_testing[:10]:\\n  print(\"shape: {0}, min: {1}, max: {2}\".format(i.shape, i.min(), i.max()))\\n\\nprint(\"Reshaped testing Images \")\\n\\nfor i in reshape_images_testing[:10]:\\n  print(\"shape: {0}, min: {1}, max: {2}\".format(i.shape, i.min(), i.max()))\\n\\n'"
            ]
          },
          "metadata": {
            "tags": []
          },
          "execution_count": 10
        }
      ]
    },
    {
      "cell_type": "code",
      "metadata": {
        "id": "QdOUPLWL-S0U",
        "colab_type": "code",
        "outputId": "7537b7ea-43b7-446c-b397-65cad427e503",
        "colab": {
          "base_uri": "https://localhost:8080/",
          "height": 295
        }
      },
      "source": [
        "#print(training_labels)\n",
        "from keras.utils import to_categorical\n",
        "#one-hot encode target column\n",
        "labels_train = to_categorical(training_labels)\n",
        "labels_test = to_categorical(testing_labels)\n",
        "print(labels_train.shape)\n",
        "print(\"\\n\")\n",
        "print(type(labels_train))\n",
        "print(training_labels[500])\n",
        "print(labels_train[500])\n",
        "\n",
        "#print(testing_labels)\n",
        "print(labels_test.shape)\n",
        "print(\"\\n\")\n",
        "print(type(labels_test))\n",
        "print(testing_labels[500])\n",
        "print(labels_test[500])"
      ],
      "execution_count": 13,
      "outputs": [
        {
          "output_type": "stream",
          "text": [
            "(4575, 62)\n",
            "\n",
            "\n",
            "<class 'numpy.ndarray'>\n",
            "13\n",
            "[0. 0. 0. 0. 0. 0. 0. 0. 0. 0. 0. 0. 0. 1. 0. 0. 0. 0. 0. 0. 0. 0. 0. 0.\n",
            " 0. 0. 0. 0. 0. 0. 0. 0. 0. 0. 0. 0. 0. 0. 0. 0. 0. 0. 0. 0. 0. 0. 0. 0.\n",
            " 0. 0. 0. 0. 0. 0. 0. 0. 0. 0. 0. 0. 0. 0.]\n",
            "(2520, 62)\n",
            "\n",
            "\n",
            "<class 'numpy.ndarray'>\n",
            "18\n",
            "[0. 0. 0. 0. 0. 0. 0. 0. 0. 0. 0. 0. 0. 0. 0. 0. 0. 0. 1. 0. 0. 0. 0. 0.\n",
            " 0. 0. 0. 0. 0. 0. 0. 0. 0. 0. 0. 0. 0. 0. 0. 0. 0. 0. 0. 0. 0. 0. 0. 0.\n",
            " 0. 0. 0. 0. 0. 0. 0. 0. 0. 0. 0. 0. 0. 0.]\n"
          ],
          "name": "stdout"
        }
      ]
    },
    {
      "cell_type": "code",
      "metadata": {
        "id": "NhHs9qrNAV5g",
        "colab_type": "code",
        "colab": {}
      },
      "source": [
        "\n",
        "\n",
        "from keras.models import Sequential\n",
        "from keras.layers import Dense, Conv2D, Flatten\n",
        "\n",
        "model_gen = Sequential()\n",
        "model_gen.add(Conv2D(32, (3, 3), strides=(1, 1), padding='same', activation='relu', input_shape=grayscale_images_training[0].shape))  #When using this layer as the first layer in a model, we provide the keyword argument \"input_shape\"\n",
        "#model_gen.add(Conv2D(32, (3, 3), activation='relu'))\n",
        "model_gen.add(MaxPooling2D(pool_size=(2, 2)))\n",
        "model_gen.add(Dropout(0.25))\n",
        " \n",
        "model_gen.add(Conv2D(64, (3, 3), strides=(1, 1), padding='same', activation='relu'))\n",
        "#model_gen.add(Conv2D(64, (3, 3), activation='relu'))\n",
        "model_gen.add(MaxPooling2D(pool_size=(2, 2)))\n",
        "model_gen.add(Dropout(0.25))\n",
        " \n",
        "model_gen.add(Conv2D(128, (3, 3), strides=(1, 1), padding='same', activation='relu'))\n",
        "#model_gen.add(Conv2D(64, (3, 3), activation='relu'))\n",
        "model_gen.add(MaxPooling2D(pool_size=(2, 2)))\n",
        "model_gen.add(Dropout(0.25))\n",
        " \n",
        "model_gen.add(Flatten())\n",
        "model_gen.add(Dense(512, activation='relu')) # we can drop \n",
        "model_gen.add(Dropout(0.5))                  # this layers\n",
        "model_gen.add(Dense(512, activation='relu'))\n",
        "model_gen.add(Dropout(0.5))\n",
        "model_gen.add(Dense(62, activation='softmax'))"
      ],
      "execution_count": 0,
      "outputs": []
    },
    {
      "cell_type": "code",
      "metadata": {
        "id": "2JE-NktqGCzi",
        "colab_type": "code",
        "colab": {}
      },
      "source": [
        "model_gen.compile(optimizer='rmsprop', loss='categorical_crossentropy', metrics=['accuracy'])"
      ],
      "execution_count": 0,
      "outputs": []
    },
    {
      "cell_type": "code",
      "metadata": {
        "id": "KM_5WeumGPmJ",
        "colab_type": "code",
        "colab": {}
      },
      "source": [
        "from keras.preprocessing.image import ImageDataGenerator\n",
        "\n",
        "# we can use image augmentation\n",
        "# basically it needs to redifine for normal actual scores like 0.9 of accuracy and more\n",
        "datagen = ImageDataGenerator(\n",
        "    featurewise_center=True,\n",
        "    featurewise_std_normalization=False,\n",
        "    rotation_range=12,\n",
        "    width_shift_range=0.2,\n",
        "    height_shift_range=0.2,\n",
        "    horizontal_flip=False)\n",
        "\n",
        "datagen.fit(grayscale_images_training)\n",
        "\n",
        "\n",
        "%time\n",
        "epochs=50\n",
        "batch_size = 20\n",
        "history_generator = model_gen.fit_generator(datagen.flow(grayscale_images_training, labels_train, batch_size=batch_size),\n",
        "                    epochs=epochs, steps_per_epoch=500 , verbose=1,\n",
        "                    validation_data=(grayscale_images_testing, labels_test))"
      ],
      "execution_count": 0,
      "outputs": []
    }
  ]
}