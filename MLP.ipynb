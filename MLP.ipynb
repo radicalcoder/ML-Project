{
  "nbformat": 4,
  "nbformat_minor": 0,
  "metadata": {
    "colab": {
      "name": "Untitled1.ipynb",
      "provenance": [],
      "include_colab_link": true
    },
    "kernelspec": {
      "name": "python3",
      "display_name": "Python 3"
    },
    "accelerator": "GPU"
  },
  "cells": [
    {
      "cell_type": "markdown",
      "metadata": {
        "id": "view-in-github",
        "colab_type": "text"
      },
      "source": [
        "<a href=\"https://colab.research.google.com/github/radicalcoder/ML-Project/blob/master/MLP.ipynb\" target=\"_parent\"><img src=\"https://colab.research.google.com/assets/colab-badge.svg\" alt=\"Open In Colab\"/></a>"
      ]
    },
    {
      "cell_type": "code",
      "metadata": {
        "id": "pWq7yyS0HsIR",
        "colab_type": "code",
        "outputId": "5a0d95c9-09f7-4ae1-8da6-17ed9ebed363",
        "colab": {
          "base_uri": "https://localhost:8080/",
          "height": 292
        }
      },
      "source": [
        "import os\n",
        "import random\n",
        "import matplotlib\n",
        "import matplotlib.pyplot as plt\n",
        "import skimage\n",
        "import skimage.data\n",
        "import skimage.transform\n",
        "import tensorflow as tf\n",
        "import numpy as np\n",
        "import pandas as pd\n",
        "from sklearn.metrics import confusion_matrix, classification_report, accuracy_score\n",
        "import itertools\n",
        "from keras import models\n",
        "from keras.preprocessing import image\n",
        "from PIL import Image\n",
        "from keras.models import Sequential\n",
        "import keras\n",
        "import PIL\n",
        "from skimage import io\n",
        "from skimage import color\n",
        "from keras.layers import Dense, Conv2D, Flatten, MaxPooling2D, Dropout\n",
        "\n",
        "\n",
        "\n",
        "# To read the data directory from repository on github.\n",
        "%matplotlib inline\n",
        "!git clone -l -s https://github.com/radicalcoder/ML-Project.git data\n",
        "%cd data\n",
        "!ls"
      ],
      "execution_count": 1,
      "outputs": [
        {
          "output_type": "display_data",
          "data": {
            "text/html": [
              "<p style=\"color: red;\">\n",
              "The default version of TensorFlow in Colab will soon switch to TensorFlow 2.x.<br>\n",
              "We recommend you <a href=\"https://www.tensorflow.org/guide/migrate\" target=\"_blank\">upgrade</a> now \n",
              "or ensure your notebook will continue to use TensorFlow 1.x via the <code>%tensorflow_version 1.x</code> magic:\n",
              "<a href=\"https://colab.research.google.com/notebooks/tensorflow_version.ipynb\" target=\"_blank\">more info</a>.</p>\n"
            ],
            "text/plain": [
              "<IPython.core.display.HTML object>"
            ]
          },
          "metadata": {
            "tags": []
          }
        },
        {
          "output_type": "stream",
          "text": [
            "Using TensorFlow backend.\n"
          ],
          "name": "stderr"
        },
        {
          "output_type": "stream",
          "text": [
            "Cloning into 'data'...\n",
            "warning: --local is ignored\n",
            "remote: Enumerating objects: 72, done.\u001b[K\n",
            "remote: Counting objects:   1% (1/72)\u001b[K\rremote: Counting objects:   2% (2/72)\u001b[K\rremote: Counting objects:   4% (3/72)\u001b[K\rremote: Counting objects:   5% (4/72)\u001b[K\rremote: Counting objects:   6% (5/72)\u001b[K\rremote: Counting objects:   8% (6/72)\u001b[K\rremote: Counting objects:   9% (7/72)\u001b[K\rremote: Counting objects:  11% (8/72)\u001b[K\rremote: Counting objects:  12% (9/72)\u001b[K\rremote: Counting objects:  13% (10/72)\u001b[K\rremote: Counting objects:  15% (11/72)\u001b[K\rremote: Counting objects:  16% (12/72)\u001b[K\rremote: Counting objects:  18% (13/72)\u001b[K\rremote: Counting objects:  19% (14/72)\u001b[K\rremote: Counting objects:  20% (15/72)\u001b[K\rremote: Counting objects:  22% (16/72)\u001b[K\rremote: Counting objects:  23% (17/72)\u001b[K\rremote: Counting objects:  25% (18/72)\u001b[K\rremote: Counting objects:  26% (19/72)\u001b[K\rremote: Counting objects:  27% (20/72)\u001b[K\rremote: Counting objects:  29% (21/72)\u001b[K\rremote: Counting objects:  30% (22/72)\u001b[K\rremote: Counting objects:  31% (23/72)\u001b[K\rremote: Counting objects:  33% (24/72)\u001b[K\rremote: Counting objects:  34% (25/72)\u001b[K\rremote: Counting objects:  36% (26/72)\u001b[K\rremote: Counting objects:  37% (27/72)\u001b[K\rremote: Counting objects:  38% (28/72)\u001b[K\rremote: Counting objects:  40% (29/72)\u001b[K\rremote: Counting objects:  41% (30/72)\u001b[K\rremote: Counting objects:  43% (31/72)\u001b[K\rremote: Counting objects:  44% (32/72)\u001b[K\rremote: Counting objects:  45% (33/72)\u001b[K\rremote: Counting objects:  47% (34/72)\u001b[K\rremote: Counting objects:  48% (35/72)\u001b[K\rremote: Counting objects:  50% (36/72)\u001b[K\rremote: Counting objects:  51% (37/72)\u001b[K\rremote: Counting objects:  52% (38/72)\u001b[K\rremote: Counting objects:  54% (39/72)\u001b[K\rremote: Counting objects:  55% (40/72)\u001b[K\rremote: Counting objects:  56% (41/72)\u001b[K\rremote: Counting objects:  58% (42/72)\u001b[K\rremote: Counting objects:  59% (43/72)\u001b[K\rremote: Counting objects:  61% (44/72)\u001b[K\rremote: Counting objects:  62% (45/72)\u001b[K\rremote: Counting objects:  63% (46/72)\u001b[K\rremote: Counting objects:  65% (47/72)\u001b[K\rremote: Counting objects:  66% (48/72)\u001b[K\rremote: Counting objects:  68% (49/72)\u001b[K\rremote: Counting objects:  69% (50/72)\u001b[K\rremote: Counting objects:  70% (51/72)\u001b[K\rremote: Counting objects:  72% (52/72)\u001b[K\rremote: Counting objects:  73% (53/72)\u001b[K\rremote: Counting objects:  75% (54/72)\u001b[K\rremote: Counting objects:  76% (55/72)\u001b[K\rremote: Counting objects:  77% (56/72)\u001b[K\rremote: Counting objects:  79% (57/72)\u001b[K\rremote: Counting objects:  80% (58/72)\u001b[K\rremote: Counting objects:  81% (59/72)\u001b[K\rremote: Counting objects:  83% (60/72)\u001b[K\rremote: Counting objects:  84% (61/72)\u001b[K\rremote: Counting objects:  86% (62/72)\u001b[K\rremote: Counting objects:  87% (63/72)\u001b[K\rremote: Counting objects:  88% (64/72)\u001b[K\rremote: Counting objects:  90% (65/72)\u001b[K\rremote: Counting objects:  91% (66/72)\u001b[K\rremote: Counting objects:  93% (67/72)\u001b[K\rremote: Counting objects:  94% (68/72)\u001b[K\rremote: Counting objects:  95% (69/72)\u001b[K\rremote: Counting objects:  97% (70/72)\u001b[K\rremote: Counting objects:  98% (71/72)\u001b[K\rremote: Counting objects: 100% (72/72)\u001b[K\rremote: Counting objects: 100% (72/72), done.\u001b[K\n",
            "remote: Compressing objects: 100% (71/71), done.\u001b[K\n",
            "remote: Total 7421 (delta 44), reused 0 (delta 0), pack-reused 7349\u001b[K\n",
            "Receiving objects: 100% (7421/7421), 248.14 MiB | 27.85 MiB/s, done.\n",
            "Resolving deltas: 100% (47/47), done.\n",
            "Checking out files: 100% (7225/7225), done.\n",
            "/content/data\n",
            "BelgiumTSC_Testing   MLP_final_initialdraft.ipynb  README.md\n",
            "BelgiumTSC_Training  MLP.ipynb\t\t\t   traffic.py\n"
          ],
          "name": "stdout"
        }
      ]
    },
    {
      "cell_type": "code",
      "metadata": {
        "id": "bP04wnwpKWTg",
        "colab_type": "code",
        "colab": {}
      },
      "source": [
        "def data_loader(data_dir):\n",
        "    \"\"\"\n",
        "    The data set is read into two lists, as follows:\n",
        "    list labels[] -> a list of numbers, where each number represents a unique image label.\n",
        "    list images[] -> a list of arrays, where each array represents a single image.\n",
        "    \n",
        "    The data set directory contains multiple subdirectories. We read all these \n",
        "    subdirectories into a list subdirs[]. Since the subfolders are read in a random order, the list\n",
        "    is also in a random order. We then sort this array using the sort() function.\n",
        "    \"\"\"\n",
        "    \n",
        "    subdirs = []\n",
        "    for i in os.listdir(data_dir):\n",
        "      if os.path.isdir(data_dir + i):   # There may be .txt files in the data_dir hence we need to check\n",
        "        subdirs.append(i)\n",
        "\n",
        "    subdirs.sort()\n",
        "    \n",
        "    \"\"\"\n",
        "    Data is now collected into two lists - labels & images - while looping through the \n",
        "    list subdirs[].    \n",
        "    \"\"\"\n",
        "\n",
        "    labels = []\n",
        "    images = []\n",
        "    for i in subdirs:\n",
        "        label_dir = data_dir + i\n",
        "        #print(label_dir)\n",
        "        f_names=[]\n",
        "        for f in os.listdir(label_dir):\n",
        "          if f.endswith(\".ppm\"):   # only files that end in .ppm are image files\n",
        "            f_names.append(label_dir + '/' + f)\n",
        "        # print(f_names)\n",
        "        \"\"\"\n",
        "        Now for each label, append all its images into the list images[] and \n",
        "        append its label number in the list labels[]. \n",
        "        \"\"\"\n",
        "        \n",
        "        for f in f_names:\n",
        "            images.append(skimage.data.imread(f))   #use parameter as_grey??\n",
        "            labels.append(int(i))\n",
        "    return labels, images\n",
        "\n",
        "\n",
        "# Loading the training and testing dataset using the function data_loader().\n",
        "training_data_dir = \"BelgiumTSC_Training/Training/\"\n",
        "testing_data_dir = \"BelgiumTSC_Testing/Testing/\"\n",
        "\n",
        "training_labels, training_images = data_loader(training_data_dir)\n",
        "testing_labels, testing_images = data_loader(testing_data_dir)\n",
        "#print(labels)"
      ],
      "execution_count": 0,
      "outputs": []
    },
    {
      "cell_type": "code",
      "metadata": {
        "id": "xWYP-F1pLS3w",
        "colab_type": "code",
        "outputId": "66c9a9ee-7d7b-42e9-9ed2-cf437474d92d",
        "colab": {
          "base_uri": "https://localhost:8080/",
          "height": 87
        }
      },
      "source": [
        "print(\"No of unique Labels in Training Data: \", len(set(training_labels)), \"\\nTotal number of Images in Training Data: \", len(training_images)) \n",
        "print(\"No of unique Labels in Testing Data: \", len(set(testing_labels)), \"\\nTotal number of Images in Testing Data: \", len(testing_images)) "
      ],
      "execution_count": 0,
      "outputs": [
        {
          "output_type": "stream",
          "text": [
            "No of unique Labels in Training Data:  62 \n",
            "Total number of Images in Training Data:  4575\n",
            "No of unique Labels in Testing Data:  53 \n",
            "Total number of Images in Testing Data:  2520\n"
          ],
          "name": "stdout"
        }
      ]
    },
    {
      "cell_type": "code",
      "metadata": {
        "id": "KphYIFdfYZgv",
        "colab_type": "code",
        "colab": {}
      },
      "source": [
        "def display_images_and_labels(images, labels):\n",
        "    #Display the first image of each label.\n",
        "    unique_labels = set(labels)\n",
        "    plt.figure(figsize=(15, 15))\n",
        "    i = 1\n",
        "    for label in unique_labels:\n",
        "        # Pick the first image for each label.\n",
        "        image = images[labels.index(label)]\n",
        "        plt.subplot(8, 8, i)  # A grid of 8 rows x 8 columns\n",
        "        plt.axis('off')\n",
        "        plt.title(\"Label {0} ({1})\".format(label, labels.count(label)))\n",
        "        i += 1\n",
        "        _ = plt.imshow(image,cmap=\"gray\")\n",
        "    plt.show()\n"
      ],
      "execution_count": 0,
      "outputs": []
    },
    {
      "cell_type": "code",
      "metadata": {
        "id": "895tn4QSPQpK",
        "colab_type": "code",
        "outputId": "fa478dea-2098-49f8-9204-1b8eeee0a894",
        "colab": {
          "base_uri": "https://localhost:8080/",
          "height": 125
        }
      },
      "source": [
        "#Training Data\n",
        "reshape_images_training=[]\n",
        "grayscale_images_training=[]\n",
        "\n",
        "for i in training_images:\n",
        "  reshape_images_training.append(skimage.transform.resize(i,(32,32), mode ='constant'))\n",
        "\n",
        "reshape_images_training= np.array(reshape_images_training)\n",
        "#reshape_images_training = reshape_images_training.astype('float32')\n",
        "print(reshape_images_training.shape)\n",
        "\n",
        "for i in reshape_images_training:\n",
        "  grayscale_images_training.append(color.rgb2gray(i))\n",
        "  \n",
        "grayscale_images_training= np.array(grayscale_images_training)  #Keras expects our images and labels to be in numpy arrays\n",
        "#grayscale_images_training = reshape_images_training.astype('float32')\n",
        "\n",
        "print(\"gray\")\n",
        "print(grayscale_images_training[0].shape)\n",
        "\n",
        "image_expanded_training = grayscale_images_training[:, :, :, np.newaxis]  #converting images from 32x32 to 32x32x1\n",
        "grayscale_images_training=image_expanded_training\n",
        "\n",
        "print(grayscale_images_training[0].shape)\n",
        "\n",
        "\"\"\"\n",
        "\n",
        "#display_images_and_labels(training_images,training_labels)\n",
        "#display_images_and_labels(grayscale_images_training, training_labels)\n",
        "\n",
        "print(\"Grayscale Training images\")\n",
        "print(len(grayscale_images_training))\n",
        "for i in grayscale_images_training[:10]:\n",
        "  print(\"shape: {0}, min: {1}, max: {2}\".format(i.shape, i.min(), i.max()))\n",
        "\n",
        "print(\"Reshaped Training Images \")\n",
        "\n",
        "for i in reshape_images_training[:10]:\n",
        "  print(\"shape: {0}, min: {1}, max: {2}\".format(i.shape, i.min(), i.max()))\n",
        "  \n",
        "\"\"\""
      ],
      "execution_count": 4,
      "outputs": [
        {
          "output_type": "stream",
          "text": [
            "(4575, 32, 32, 3)\n",
            "gray\n",
            "(32, 32)\n",
            "(32, 32, 1)\n"
          ],
          "name": "stdout"
        },
        {
          "output_type": "execute_result",
          "data": {
            "text/plain": [
              "'\\n\\n#display_images_and_labels(training_images,training_labels)\\n#display_images_and_labels(grayscale_images_training, training_labels)\\n\\nprint(\"Grayscale Training images\")\\nprint(len(grayscale_images_training))\\nfor i in grayscale_images_training[:10]:\\n  print(\"shape: {0}, min: {1}, max: {2}\".format(i.shape, i.min(), i.max()))\\n\\nprint(\"Reshaped Training Images \")\\n\\nfor i in reshape_images_training[:10]:\\n  print(\"shape: {0}, min: {1}, max: {2}\".format(i.shape, i.min(), i.max()))\\n  \\n'"
            ]
          },
          "metadata": {
            "tags": []
          },
          "execution_count": 4
        }
      ]
    },
    {
      "cell_type": "code",
      "metadata": {
        "id": "l0wFoRRO1Ru6",
        "colab_type": "code",
        "outputId": "c011d8cf-9618-42b9-d0ec-56b87b728163",
        "colab": {
          "base_uri": "https://localhost:8080/",
          "height": 125
        }
      },
      "source": [
        "#Testing Data\n",
        "reshape_images_testing=[]\n",
        "grayscale_images_testing=[]\n",
        "\n",
        "for i in testing_images:\n",
        "  reshape_images_testing.append(skimage.transform.resize(i,(32,32), mode ='constant'))\n",
        "\n",
        "reshape_images_testing= np.array(reshape_images_testing)\n",
        "#reshape_images_testing = reshape_images_testing.astype('float32')\n",
        "print(reshape_images_testing.shape)\n",
        "\n",
        "for i in reshape_images_testing:\n",
        "  grayscale_images_testing.append(color.rgb2gray(i))\n",
        "  \n",
        "grayscale_images_testing= np.array(grayscale_images_testing)\n",
        "#grayscale_images_testing = reshape_images_testing.astype('float32')\n",
        "\n",
        "print(\"gray\")\n",
        "print(grayscale_images_testing[0].shape)\n",
        "\n",
        "image_expanded_testing = grayscale_images_testing[:, :, :, np.newaxis]  #converting imags from 32x32 to 32x32x1\n",
        "grayscale_images_testing=image_expanded_testing\n",
        "\n",
        "print(grayscale_images_testing[0].shape)\n",
        "\n",
        "  \n",
        "\n",
        "#display_images_and_labels(testing_images,testing_labels)\n",
        "#display_images_and_labels(grayscale_images_testing, testing_labels)\n",
        "\n",
        "\"\"\"\n",
        "\n",
        "print(\"Grayscale testing images\")\n",
        "print(len(grayscale_images_testing))\n",
        "for i in grayscale_images_testing[:10]:\n",
        "  print(\"shape: {0}, min: {1}, max: {2}\".format(i.shape, i.min(), i.max()))\n",
        "\n",
        "print(\"Reshaped testing Images \")\n",
        "\n",
        "for i in reshape_images_testing[:10]:\n",
        "  print(\"shape: {0}, min: {1}, max: {2}\".format(i.shape, i.min(), i.max()))\n",
        "\n",
        "\"\"\""
      ],
      "execution_count": 5,
      "outputs": [
        {
          "output_type": "stream",
          "text": [
            "(2520, 32, 32, 3)\n",
            "gray\n",
            "(32, 32)\n",
            "(32, 32, 1)\n"
          ],
          "name": "stdout"
        },
        {
          "output_type": "execute_result",
          "data": {
            "text/plain": [
              "'\\n\\nprint(\"Grayscale testing images\")\\nprint(len(grayscale_images_testing))\\nfor i in grayscale_images_testing[:10]:\\n  print(\"shape: {0}, min: {1}, max: {2}\".format(i.shape, i.min(), i.max()))\\n\\nprint(\"Reshaped testing Images \")\\n\\nfor i in reshape_images_testing[:10]:\\n  print(\"shape: {0}, min: {1}, max: {2}\".format(i.shape, i.min(), i.max()))\\n\\n'"
            ]
          },
          "metadata": {
            "tags": []
          },
          "execution_count": 5
        }
      ]
    },
    {
      "cell_type": "code",
      "metadata": {
        "id": "QdOUPLWL-S0U",
        "colab_type": "code",
        "outputId": "d135f141-a2f9-4653-ab6a-2797c0213039",
        "colab": {
          "base_uri": "https://localhost:8080/",
          "height": 298
        }
      },
      "source": [
        "#print(training_labels)\n",
        "from keras.utils import to_categorical\n",
        "#one-hot encode target column\n",
        "labels_train = to_categorical(training_labels)\n",
        "labels_test = to_categorical(testing_labels)\n",
        "print(labels_train.shape)\n",
        "print(\"\\n\")\n",
        "print(type(labels_train))\n",
        "print(training_labels[500])\n",
        "print(labels_train[500])\n",
        "\n",
        "#print(testing_labels)\n",
        "print(labels_test.shape)\n",
        "print(\"\\n\")\n",
        "print(type(labels_test))\n",
        "print(testing_labels[500])\n",
        "print(labels_test[500])"
      ],
      "execution_count": 6,
      "outputs": [
        {
          "output_type": "stream",
          "text": [
            "(4575, 62)\n",
            "\n",
            "\n",
            "<class 'numpy.ndarray'>\n",
            "13\n",
            "[0. 0. 0. 0. 0. 0. 0. 0. 0. 0. 0. 0. 0. 1. 0. 0. 0. 0. 0. 0. 0. 0. 0. 0.\n",
            " 0. 0. 0. 0. 0. 0. 0. 0. 0. 0. 0. 0. 0. 0. 0. 0. 0. 0. 0. 0. 0. 0. 0. 0.\n",
            " 0. 0. 0. 0. 0. 0. 0. 0. 0. 0. 0. 0. 0. 0.]\n",
            "(2520, 62)\n",
            "\n",
            "\n",
            "<class 'numpy.ndarray'>\n",
            "18\n",
            "[0. 0. 0. 0. 0. 0. 0. 0. 0. 0. 0. 0. 0. 0. 0. 0. 0. 0. 1. 0. 0. 0. 0. 0.\n",
            " 0. 0. 0. 0. 0. 0. 0. 0. 0. 0. 0. 0. 0. 0. 0. 0. 0. 0. 0. 0. 0. 0. 0. 0.\n",
            " 0. 0. 0. 0. 0. 0. 0. 0. 0. 0. 0. 0. 0. 0.]\n"
          ],
          "name": "stdout"
        }
      ]
    },
    {
      "cell_type": "code",
      "metadata": {
        "id": "NhHs9qrNAV5g",
        "colab_type": "code",
        "colab": {
          "base_uri": "https://localhost:8080/",
          "height": 266
        },
        "outputId": "7991991b-bcef-4109-e5cf-8a59156d8c75"
      },
      "source": [
        "\n",
        "\n",
        "from keras.models import Sequential\n",
        "from keras.layers import Dense, Conv2D, Flatten\n",
        "\n",
        "model_gen = Sequential()\n",
        "model_gen.add(Conv2D(32, (3, 3), strides=(1, 1), padding='same', activation='relu', input_shape=grayscale_images_training[0].shape))  #When using this layer as the first layer in a model, we provide the keyword argument \"input_shape\"\n",
        "#model_gen.add(Conv2D(32, (3, 3), activation='relu'))\n",
        "model_gen.add(MaxPooling2D(pool_size=(2, 2)))\n",
        "model_gen.add(Dropout(0.25))\n",
        " \n",
        "model_gen.add(Conv2D(64, (3, 3), strides=(1, 1), padding='same', activation='relu'))\n",
        "#model_gen.add(Conv2D(64, (3, 3), activation='relu'))\n",
        "model_gen.add(MaxPooling2D(pool_size=(2, 2)))\n",
        "model_gen.add(Dropout(0.25))\n",
        " \n",
        "model_gen.add(Conv2D(64, (3, 3), strides=(1, 1), padding='same', activation='relu'))\n",
        "#model_gen.add(Conv2D(64, (3, 3), activation='relu'))\n",
        "model_gen.add(MaxPooling2D(pool_size=(2, 2)))\n",
        "model_gen.add(Dropout(0.25))\n",
        " \n",
        "model_gen.add(Flatten())\n",
        "model_gen.add(Dense(512, activation='relu')) # we can drop \n",
        "model_gen.add(Dropout(0.5))                  # this layers\n",
        "model_gen.add(Dense(512, activation='relu'))\n",
        "model_gen.add(Dropout(0.5))\n",
        "model_gen.add(Dense(62, activation='softmax'))"
      ],
      "execution_count": 7,
      "outputs": [
        {
          "output_type": "stream",
          "text": [
            "WARNING:tensorflow:From /usr/local/lib/python3.6/dist-packages/keras/backend/tensorflow_backend.py:66: The name tf.get_default_graph is deprecated. Please use tf.compat.v1.get_default_graph instead.\n",
            "\n",
            "WARNING:tensorflow:From /usr/local/lib/python3.6/dist-packages/keras/backend/tensorflow_backend.py:541: The name tf.placeholder is deprecated. Please use tf.compat.v1.placeholder instead.\n",
            "\n",
            "WARNING:tensorflow:From /usr/local/lib/python3.6/dist-packages/keras/backend/tensorflow_backend.py:4432: The name tf.random_uniform is deprecated. Please use tf.random.uniform instead.\n",
            "\n",
            "WARNING:tensorflow:From /usr/local/lib/python3.6/dist-packages/keras/backend/tensorflow_backend.py:4267: The name tf.nn.max_pool is deprecated. Please use tf.nn.max_pool2d instead.\n",
            "\n",
            "WARNING:tensorflow:From /usr/local/lib/python3.6/dist-packages/keras/backend/tensorflow_backend.py:148: The name tf.placeholder_with_default is deprecated. Please use tf.compat.v1.placeholder_with_default instead.\n",
            "\n",
            "WARNING:tensorflow:From /usr/local/lib/python3.6/dist-packages/keras/backend/tensorflow_backend.py:3733: calling dropout (from tensorflow.python.ops.nn_ops) with keep_prob is deprecated and will be removed in a future version.\n",
            "Instructions for updating:\n",
            "Please use `rate` instead of `keep_prob`. Rate should be set to `rate = 1 - keep_prob`.\n"
          ],
          "name": "stdout"
        }
      ]
    },
    {
      "cell_type": "code",
      "metadata": {
        "id": "2JE-NktqGCzi",
        "colab_type": "code",
        "colab": {
          "base_uri": "https://localhost:8080/",
          "height": 87
        },
        "outputId": "1e28c835-971d-4f42-d618-f67a55d6541f"
      },
      "source": [
        "model_gen.compile(optimizer='rmsprop', loss='categorical_crossentropy', metrics=['accuracy'])"
      ],
      "execution_count": 8,
      "outputs": [
        {
          "output_type": "stream",
          "text": [
            "WARNING:tensorflow:From /usr/local/lib/python3.6/dist-packages/keras/optimizers.py:793: The name tf.train.Optimizer is deprecated. Please use tf.compat.v1.train.Optimizer instead.\n",
            "\n",
            "WARNING:tensorflow:From /usr/local/lib/python3.6/dist-packages/keras/backend/tensorflow_backend.py:3576: The name tf.log is deprecated. Please use tf.math.log instead.\n",
            "\n"
          ],
          "name": "stdout"
        }
      ]
    },
    {
      "cell_type": "code",
      "metadata": {
        "id": "H7_3lHXzrVmK",
        "colab_type": "code",
        "outputId": "3e2d2faf-50c0-44b3-e2db-b0fcc457d107",
        "colab": {
          "base_uri": "https://localhost:8080/",
          "height": 125
        }
      },
      "source": [
        "from google.colab import drive\n",
        "drive.mount('/content/drive')"
      ],
      "execution_count": 13,
      "outputs": [
        {
          "output_type": "stream",
          "text": [
            "Go to this URL in a browser: https://accounts.google.com/o/oauth2/auth?client_id=947318989803-6bn6qk8qdgf4n4g3pfee6491hc0brc4i.apps.googleusercontent.com&redirect_uri=urn%3aietf%3awg%3aoauth%3a2.0%3aoob&response_type=code&scope=email%20https%3a%2f%2fwww.googleapis.com%2fauth%2fdocs.test%20https%3a%2f%2fwww.googleapis.com%2fauth%2fdrive%20https%3a%2f%2fwww.googleapis.com%2fauth%2fdrive.photos.readonly%20https%3a%2f%2fwww.googleapis.com%2fauth%2fpeopleapi.readonly\n",
            "\n",
            "Enter your authorization code:\n",
            "··········\n",
            "Mounted at /content/drive\n"
          ],
          "name": "stdout"
        }
      ]
    },
    {
      "cell_type": "code",
      "metadata": {
        "id": "Zw0TTj6ovmlb",
        "colab_type": "code",
        "colab": {}
      },
      "source": [
        "#Creating checkpoint to store the best model based on validation accuracy\n",
        "from keras.callbacks import ModelCheckpoint\n",
        "filepath=\"/content/drive/My Drive/ML-Proj/Best_Weights.hdf5\"\n",
        "checkpoint = ModelCheckpoint(filepath, monitor='val_acc', verbose=1, save_best_only=True, mode='max')\n",
        "callbacks_list = [checkpoint]"
      ],
      "execution_count": 0,
      "outputs": []
    },
    {
      "cell_type": "code",
      "metadata": {
        "id": "KM_5WeumGPmJ",
        "colab_type": "code",
        "outputId": "0eabe72c-be59-4cfc-8efa-9765ef99642e",
        "colab": {
          "base_uri": "https://localhost:8080/",
          "height": 1000
        }
      },
      "source": [
        "from keras.preprocessing.image import ImageDataGenerator\n",
        "\n",
        "# we can use image augmentation\n",
        "# basically it needs to redifine for normal actual scores like 0.9 of accuracy and more\n",
        "datagen = ImageDataGenerator(\n",
        "    featurewise_center=True,\n",
        "    featurewise_std_normalization=False,\n",
        "    rotation_range=12,\n",
        "    width_shift_range=0.2,\n",
        "    height_shift_range=0.2,\n",
        "    horizontal_flip=False)\n",
        "\n",
        "datagen.fit(grayscale_images_training)\n",
        "\n",
        "\n",
        "%time\n",
        "epochs=50\n",
        "batch_size = 20\n",
        "history_generator = model_gen.fit_generator(datagen.flow(grayscale_images_training, labels_train, batch_size=batch_size),\n",
        "                    epochs=epochs, steps_per_epoch=500 , callbacks=callbacks_list, verbose=1,\n",
        "                    validation_data=(grayscale_images_testing, labels_test))"
      ],
      "execution_count": 16,
      "outputs": [
        {
          "output_type": "stream",
          "text": [
            "CPU times: user 1e+03 ns, sys: 1e+03 ns, total: 2 µs\n",
            "Wall time: 5.72 µs\n",
            "Epoch 1/50\n",
            "500/500 [==============================] - 8s 15ms/step - loss: 2.1008 - acc: 0.4566 - val_loss: 1.6986 - val_acc: 0.5623\n",
            "\n",
            "Epoch 00001: val_acc improved from 0.39841 to 0.56230, saving model to /content/drive/My Drive/ML-Proj/Best_Weights.hdf5\n",
            "Epoch 2/50\n",
            "500/500 [==============================] - 8s 15ms/step - loss: 1.6195 - acc: 0.5691 - val_loss: 1.2284 - val_acc: 0.6325\n",
            "\n",
            "Epoch 00002: val_acc improved from 0.56230 to 0.63254, saving model to /content/drive/My Drive/ML-Proj/Best_Weights.hdf5\n",
            "Epoch 3/50\n",
            "500/500 [==============================] - 8s 15ms/step - loss: 1.3999 - acc: 0.6233 - val_loss: 1.3528 - val_acc: 0.6492\n",
            "\n",
            "Epoch 00003: val_acc improved from 0.63254 to 0.64921, saving model to /content/drive/My Drive/ML-Proj/Best_Weights.hdf5\n",
            "Epoch 4/50\n",
            "500/500 [==============================] - 8s 15ms/step - loss: 1.2863 - acc: 0.6533 - val_loss: 1.1337 - val_acc: 0.7234\n",
            "\n",
            "Epoch 00004: val_acc improved from 0.64921 to 0.72341, saving model to /content/drive/My Drive/ML-Proj/Best_Weights.hdf5\n",
            "Epoch 5/50\n",
            "500/500 [==============================] - 8s 15ms/step - loss: 1.2116 - acc: 0.6702 - val_loss: 1.1089 - val_acc: 0.7246\n",
            "\n",
            "Epoch 00005: val_acc improved from 0.72341 to 0.72460, saving model to /content/drive/My Drive/ML-Proj/Best_Weights.hdf5\n",
            "Epoch 6/50\n",
            "500/500 [==============================] - 8s 16ms/step - loss: 1.1977 - acc: 0.6823 - val_loss: 1.2797 - val_acc: 0.6202\n",
            "\n",
            "Epoch 00006: val_acc did not improve from 0.72460\n",
            "Epoch 7/50\n",
            "500/500 [==============================] - 8s 15ms/step - loss: 1.1935 - acc: 0.6794 - val_loss: 1.0333 - val_acc: 0.7028\n",
            "\n",
            "Epoch 00007: val_acc did not improve from 0.72460\n",
            "Epoch 8/50\n",
            "500/500 [==============================] - 8s 15ms/step - loss: 1.1724 - acc: 0.6855 - val_loss: 1.0671 - val_acc: 0.7075\n",
            "\n",
            "Epoch 00008: val_acc did not improve from 0.72460\n",
            "Epoch 9/50\n",
            "500/500 [==============================] - 8s 15ms/step - loss: 1.1685 - acc: 0.6867 - val_loss: 1.0364 - val_acc: 0.7456\n",
            "\n",
            "Epoch 00009: val_acc improved from 0.72460 to 0.74563, saving model to /content/drive/My Drive/ML-Proj/Best_Weights.hdf5\n",
            "Epoch 10/50\n",
            "500/500 [==============================] - 8s 15ms/step - loss: 1.1854 - acc: 0.6903 - val_loss: 1.3653 - val_acc: 0.6528\n",
            "\n",
            "Epoch 00010: val_acc did not improve from 0.74563\n",
            "Epoch 11/50\n",
            "500/500 [==============================] - 8s 15ms/step - loss: 1.2642 - acc: 0.6770 - val_loss: 1.3205 - val_acc: 0.6782\n",
            "\n",
            "Epoch 00011: val_acc did not improve from 0.74563\n",
            "Epoch 12/50\n",
            "500/500 [==============================] - 8s 15ms/step - loss: 1.2584 - acc: 0.6775 - val_loss: 1.2621 - val_acc: 0.7131\n",
            "\n",
            "Epoch 00012: val_acc did not improve from 0.74563\n",
            "Epoch 13/50\n",
            "500/500 [==============================] - 8s 15ms/step - loss: 1.2708 - acc: 0.6712 - val_loss: 1.1487 - val_acc: 0.7190\n",
            "\n",
            "Epoch 00013: val_acc did not improve from 0.74563\n",
            "Epoch 14/50\n",
            "500/500 [==============================] - 7s 15ms/step - loss: 1.3382 - acc: 0.6574 - val_loss: 1.4227 - val_acc: 0.6591\n",
            "\n",
            "Epoch 00014: val_acc did not improve from 0.74563\n",
            "Epoch 15/50\n",
            "500/500 [==============================] - 7s 15ms/step - loss: 1.2796 - acc: 0.6733 - val_loss: 1.3142 - val_acc: 0.6310\n",
            "\n",
            "Epoch 00015: val_acc did not improve from 0.74563\n",
            "Epoch 16/50\n",
            "500/500 [==============================] - 8s 15ms/step - loss: 1.3153 - acc: 0.6651 - val_loss: 1.2056 - val_acc: 0.6512\n",
            "\n",
            "Epoch 00016: val_acc did not improve from 0.74563\n",
            "Epoch 17/50\n",
            "500/500 [==============================] - 8s 15ms/step - loss: 1.3632 - acc: 0.6614 - val_loss: 1.8827 - val_acc: 0.4952\n",
            "\n",
            "Epoch 00017: val_acc did not improve from 0.74563\n",
            "Epoch 18/50\n",
            "500/500 [==============================] - 8s 15ms/step - loss: 1.3786 - acc: 0.6546 - val_loss: 1.2532 - val_acc: 0.6694\n",
            "\n",
            "Epoch 00018: val_acc did not improve from 0.74563\n",
            "Epoch 19/50\n",
            "500/500 [==============================] - 8s 15ms/step - loss: 1.4031 - acc: 0.6469 - val_loss: 1.4868 - val_acc: 0.6286\n",
            "\n",
            "Epoch 00019: val_acc did not improve from 0.74563\n",
            "Epoch 20/50\n",
            "500/500 [==============================] - 8s 15ms/step - loss: 1.4123 - acc: 0.6418 - val_loss: 1.4094 - val_acc: 0.6242\n",
            "\n",
            "Epoch 00020: val_acc did not improve from 0.74563\n",
            "Epoch 21/50\n",
            "500/500 [==============================] - 8s 15ms/step - loss: 1.4508 - acc: 0.6425 - val_loss: 2.1506 - val_acc: 0.4496\n",
            "\n",
            "Epoch 00021: val_acc did not improve from 0.74563\n",
            "Epoch 22/50\n",
            "500/500 [==============================] - 8s 15ms/step - loss: 1.5069 - acc: 0.6332 - val_loss: 1.3629 - val_acc: 0.6270\n",
            "\n",
            "Epoch 00022: val_acc did not improve from 0.74563\n",
            "Epoch 23/50\n",
            "500/500 [==============================] - 8s 15ms/step - loss: 1.5014 - acc: 0.6323 - val_loss: 1.4759 - val_acc: 0.6163\n",
            "\n",
            "Epoch 00023: val_acc did not improve from 0.74563\n",
            "Epoch 24/50\n",
            "500/500 [==============================] - 8s 15ms/step - loss: 1.5462 - acc: 0.6203 - val_loss: 1.3647 - val_acc: 0.6333\n",
            "\n",
            "Epoch 00024: val_acc did not improve from 0.74563\n",
            "Epoch 25/50\n",
            "500/500 [==============================] - 8s 15ms/step - loss: 1.5011 - acc: 0.6260 - val_loss: 1.2441 - val_acc: 0.6837\n",
            "\n",
            "Epoch 00025: val_acc did not improve from 0.74563\n",
            "Epoch 26/50\n",
            "500/500 [==============================] - 8s 15ms/step - loss: 1.4858 - acc: 0.6244 - val_loss: 1.5372 - val_acc: 0.5877\n",
            "\n",
            "Epoch 00026: val_acc did not improve from 0.74563\n",
            "Epoch 27/50\n",
            "500/500 [==============================] - 7s 15ms/step - loss: 1.5370 - acc: 0.6248 - val_loss: 1.9682 - val_acc: 0.5012\n",
            "\n",
            "Epoch 00027: val_acc did not improve from 0.74563\n",
            "Epoch 28/50\n",
            "500/500 [==============================] - 8s 15ms/step - loss: 1.5499 - acc: 0.6205 - val_loss: 2.1418 - val_acc: 0.4687\n",
            "\n",
            "Epoch 00028: val_acc did not improve from 0.74563\n",
            "Epoch 29/50\n",
            "500/500 [==============================] - 8s 15ms/step - loss: 1.6122 - acc: 0.6069 - val_loss: 1.6452 - val_acc: 0.5623\n",
            "\n",
            "Epoch 00029: val_acc did not improve from 0.74563\n",
            "Epoch 30/50\n",
            "500/500 [==============================] - 7s 15ms/step - loss: 1.6046 - acc: 0.6139 - val_loss: 1.8367 - val_acc: 0.5052\n",
            "\n",
            "Epoch 00030: val_acc did not improve from 0.74563\n",
            "Epoch 31/50\n",
            "500/500 [==============================] - 8s 15ms/step - loss: 1.6293 - acc: 0.6064 - val_loss: 1.9573 - val_acc: 0.4905\n",
            "\n",
            "Epoch 00031: val_acc did not improve from 0.74563\n",
            "Epoch 32/50\n",
            "500/500 [==============================] - 8s 15ms/step - loss: 1.6166 - acc: 0.6121 - val_loss: 4.1090 - val_acc: 0.5401\n",
            "\n",
            "Epoch 00032: val_acc did not improve from 0.74563\n",
            "Epoch 33/50\n",
            "500/500 [==============================] - 8s 15ms/step - loss: 1.6239 - acc: 0.6053 - val_loss: 3.2033 - val_acc: 0.4671\n",
            "\n",
            "Epoch 00033: val_acc did not improve from 0.74563\n",
            "Epoch 34/50\n",
            "500/500 [==============================] - 8s 15ms/step - loss: 1.6317 - acc: 0.6027 - val_loss: 2.0526 - val_acc: 0.4790\n",
            "\n",
            "Epoch 00034: val_acc did not improve from 0.74563\n",
            "Epoch 35/50\n",
            "500/500 [==============================] - 8s 15ms/step - loss: 1.6812 - acc: 0.5990 - val_loss: 3.0011 - val_acc: 0.4433\n",
            "\n",
            "Epoch 00035: val_acc did not improve from 0.74563\n",
            "Epoch 36/50\n",
            "500/500 [==============================] - 8s 15ms/step - loss: 1.6458 - acc: 0.6035 - val_loss: 2.3571 - val_acc: 0.3671\n",
            "\n",
            "Epoch 00036: val_acc did not improve from 0.74563\n",
            "Epoch 37/50\n",
            "500/500 [==============================] - 8s 15ms/step - loss: 1.6398 - acc: 0.6031 - val_loss: 2.0446 - val_acc: 0.4750\n",
            "\n",
            "Epoch 00037: val_acc did not improve from 0.74563\n",
            "Epoch 38/50\n",
            "500/500 [==============================] - 8s 15ms/step - loss: 1.6896 - acc: 0.5976 - val_loss: 1.6958 - val_acc: 0.5536\n",
            "\n",
            "Epoch 00038: val_acc did not improve from 0.74563\n",
            "Epoch 39/50\n",
            "500/500 [==============================] - 8s 15ms/step - loss: 1.6961 - acc: 0.5869 - val_loss: 2.4620 - val_acc: 0.3504\n",
            "\n",
            "Epoch 00039: val_acc did not improve from 0.74563\n",
            "Epoch 40/50\n",
            "500/500 [==============================] - 8s 15ms/step - loss: 1.6919 - acc: 0.5837 - val_loss: 2.2205 - val_acc: 0.4341\n",
            "\n",
            "Epoch 00040: val_acc did not improve from 0.74563\n",
            "Epoch 41/50\n",
            "500/500 [==============================] - 8s 15ms/step - loss: 1.6793 - acc: 0.6002 - val_loss: 2.2822 - val_acc: 0.4520\n",
            "\n",
            "Epoch 00041: val_acc did not improve from 0.74563\n",
            "Epoch 42/50\n",
            "500/500 [==============================] - 8s 15ms/step - loss: 1.6967 - acc: 0.5977 - val_loss: 1.7728 - val_acc: 0.5476\n",
            "\n",
            "Epoch 00042: val_acc did not improve from 0.74563\n",
            "Epoch 43/50\n",
            "500/500 [==============================] - 7s 15ms/step - loss: 1.7935 - acc: 0.5833 - val_loss: 2.6072 - val_acc: 0.3484\n",
            "\n",
            "Epoch 00043: val_acc did not improve from 0.74563\n",
            "Epoch 44/50\n",
            "500/500 [==============================] - 8s 15ms/step - loss: 1.7807 - acc: 0.5764 - val_loss: 2.2548 - val_acc: 0.4147\n",
            "\n",
            "Epoch 00044: val_acc did not improve from 0.74563\n",
            "Epoch 45/50\n",
            "500/500 [==============================] - 8s 15ms/step - loss: 1.7784 - acc: 0.5771 - val_loss: 1.8410 - val_acc: 0.5520\n",
            "\n",
            "Epoch 00045: val_acc did not improve from 0.74563\n",
            "Epoch 46/50\n",
            "500/500 [==============================] - 8s 15ms/step - loss: 1.7486 - acc: 0.5859 - val_loss: 1.8457 - val_acc: 0.5409\n",
            "\n",
            "Epoch 00046: val_acc did not improve from 0.74563\n",
            "Epoch 47/50\n",
            "500/500 [==============================] - 8s 15ms/step - loss: 1.8257 - acc: 0.5640 - val_loss: 1.7747 - val_acc: 0.5718\n",
            "\n",
            "Epoch 00047: val_acc did not improve from 0.74563\n",
            "Epoch 48/50\n",
            "500/500 [==============================] - 8s 15ms/step - loss: 1.8616 - acc: 0.5626 - val_loss: 2.0791 - val_acc: 0.5063\n",
            "\n",
            "Epoch 00048: val_acc did not improve from 0.74563\n",
            "Epoch 49/50\n",
            "500/500 [==============================] - 8s 15ms/step - loss: 1.8680 - acc: 0.5550 - val_loss: 2.4976 - val_acc: 0.3706\n",
            "\n",
            "Epoch 00049: val_acc did not improve from 0.74563\n",
            "Epoch 50/50\n",
            "500/500 [==============================] - 8s 16ms/step - loss: 1.8363 - acc: 0.5609 - val_loss: 2.2853 - val_acc: 0.4579\n",
            "\n",
            "Epoch 00050: val_acc did not improve from 0.74563\n"
          ],
          "name": "stdout"
        }
      ]
    },
    {
      "cell_type": "code",
      "metadata": {
        "id": "-O13y7Ks0WQQ",
        "colab_type": "code",
        "colab": {}
      },
      "source": [
        "#Loading Best Weights\n",
        "model_gen.load_weights(\"/content/drive/My Drive/ML-Proj/Best_Weights.hdf5\")\n",
        "#Saving Best Model\n",
        "model_gen.save(\"/content/drive/My Drive/ML-Proj/Best_Model.h5\")"
      ],
      "execution_count": 0,
      "outputs": []
    },
    {
      "cell_type": "code",
      "metadata": {
        "id": "Wg1xE6pF2AZv",
        "colab_type": "code",
        "outputId": "a5688415-1019-4554-e51c-c45a0718fe6b",
        "colab": {
          "base_uri": "https://localhost:8080/",
          "height": 105
        }
      },
      "source": [
        "#Predicting Traffic Signs\n",
        "y_te_pred = model_gen.predict_classes(grayscale_images_testing, batch_size=batch_size, verbose =1)\n",
        "print(y_te_pred.shape)\n",
        "print(type(y_te_pred))\n",
        "pred_value=1500\n",
        "print(y_te_pred[pred_value])\n",
        "print(testing_labels[pred_value])"
      ],
      "execution_count": 18,
      "outputs": [
        {
          "output_type": "stream",
          "text": [
            "2520/2520 [==============================] - 0s 161us/step\n",
            "(2520,)\n",
            "<class 'numpy.ndarray'>\n",
            "32\n",
            "32\n"
          ],
          "name": "stdout"
        }
      ]
    },
    {
      "cell_type": "code",
      "metadata": {
        "id": "WfHn-OqU4AdN",
        "colab_type": "code",
        "outputId": "e308dd02-3c27-4962-8306-48c4cdfc8e9e",
        "colab": {
          "base_uri": "https://localhost:8080/",
          "height": 70
        }
      },
      "source": [
        "scores = model_gen.evaluate(grayscale_images_testing, labels_test)\n",
        "print(scores[0])    #Loss\n",
        "print(scores[1])    #Accuracy"
      ],
      "execution_count": 19,
      "outputs": [
        {
          "output_type": "stream",
          "text": [
            "2520/2520 [==============================] - 0s 150us/step\n",
            "1.0364125678949576\n",
            "0.7456349206349207\n"
          ],
          "name": "stdout"
        }
      ]
    },
    {
      "cell_type": "code",
      "metadata": {
        "id": "wQmceQo2NchQ",
        "colab_type": "code",
        "colab": {}
      },
      "source": [
        "   \n",
        "def plot_history(history):\n",
        "    loss_list = [s for s in history.history.keys() if 'loss' in s and 'val' not in s]\n",
        "    val_loss_list = [s for s in history.history.keys() if 'loss' in s and 'val' in s]\n",
        "    acc_list = [s for s in history.history.keys() if 'acc' in s and 'val' not in s]\n",
        "    val_acc_list = [s for s in history.history.keys() if 'acc' in s and 'val' in s]\n",
        "    \n",
        "    if len(loss_list) == 0:\n",
        "        print('Loss is missing in history')\n",
        "        return \n",
        "    \n",
        "    ## As loss always exists\n",
        "    epochs = range(1,len(history.history[loss_list[0]]) + 1)\n",
        "    \n",
        "    ## Loss\n",
        "    plt.figure(1)\n",
        "    for l in loss_list:\n",
        "        plt.plot(epochs, history.history[l], 'b', label='Training loss (' + str(str(format(history.history[l][-1],'.5f'))+')'))\n",
        "    for l in val_loss_list:\n",
        "        plt.plot(epochs, history.history[l], 'g', label='Validation loss (' + str(str(format(history.history[l][-1],'.5f'))+')'))\n",
        "    \n",
        "    plt.title('Loss')\n",
        "    plt.xlabel('Epochs')\n",
        "    plt.ylabel('Loss')\n",
        "    plt.legend()\n",
        "    \n",
        "    ## Accuracy\n",
        "    plt.figure(2)\n",
        "    for l in acc_list:\n",
        "        plt.plot(epochs, history.history[l], 'b', label='Training accuracy (' + str(format(history.history[l][-1],'.5f'))+')')\n",
        "    for l in val_acc_list:    \n",
        "        plt.plot(epochs, history.history[l], 'g', label='Validation accuracy (' + str(format(history.history[l][-1],'.5f'))+')')\n",
        "\n",
        "    plt.title('Accuracy')\n",
        "    plt.xlabel('Epochs')\n",
        "    plt.ylabel('Accuracy')\n",
        "    plt.legend()\n",
        "    plt.show()\n",
        "    \n",
        "def plot_confusion_matrix(cm, classes,\n",
        "                          normalize=True,\n",
        "                          cmap=plt.cm.Blues):\n",
        "    \"\"\"\n",
        "    This function prints and plots the confusion matrix.\n",
        "    Normalization can be applied by setting `normalize=True`.\n",
        "    \"\"\"\n",
        "    if normalize:\n",
        "        cm = cm.astype('float') / cm.sum(axis=1)[:, np.newaxis]\n",
        "        title='Normalized confusion matrix'\n",
        "    else:\n",
        "        title='Confusion matrix for 62 Sample classes'\n",
        "        \n",
        "    fig = plt.figure(figsize=(20,8))\n",
        "    plt.imshow(cm, interpolation='nearest', cmap=cmap)\n",
        "    plt.title(title)\n",
        "    plt.colorbar()\n",
        "    tick_marks = np.arange(len(classes))\n",
        "    plt.xticks(tick_marks, classes, rotation=45)\n",
        "    plt.yticks(tick_marks, classes)\n",
        "\n",
        "    fmt = '.2f' if normalize else 'd'\n",
        "    thresh = cm.max() / 2.\n",
        "    for i, j in itertools.product(range(cm.shape[0]), range(cm.shape[1])):\n",
        "        plt.text(j, i, format(cm[i, j], fmt),\n",
        "                 horizontalalignment=\"center\",\n",
        "                 color=\"white\" if cm[i, j] > thresh else \"black\")\n",
        "\n",
        "    plt.tight_layout()\n",
        "    plt.ylabel('True label')\n",
        "    plt.xlabel('Predicted label')\n",
        "    plt.show()\n",
        "    \n",
        "## multiclass or binary report\n",
        "## If binary (sigmoid output), set binary parameter to True\n",
        "def full_multiclass_report(model,\n",
        "                           x,\n",
        "                           y_true,\n",
        "                           classes,\n",
        "                           batch_size=32,\n",
        "                           binary=False):\n",
        "    plot_history(history_generator)"
      ],
      "execution_count": 0,
      "outputs": []
    },
    {
      "cell_type": "code",
      "metadata": {
        "id": "76cGHzv9XidX",
        "colab_type": "code",
        "colab": {
          "base_uri": "https://localhost:8080/",
          "height": 87
        },
        "outputId": "4b6c9d52-8396-4809-c320-36d135a07d48"
      },
      "source": [
        "print(type(labels_test))\n",
        "print(labels_test.shape)\n",
        "print(type(y_te_pred))\n",
        "print(y_te_pred[0])"
      ],
      "execution_count": 43,
      "outputs": [
        {
          "output_type": "stream",
          "text": [
            "<class 'numpy.ndarray'>\n",
            "(2520, 62)\n",
            "<class 'numpy.ndarray'>\n",
            "1\n"
          ],
          "name": "stdout"
        }
      ]
    },
    {
      "cell_type": "code",
      "metadata": {
        "id": "ob2QkA3DQewh",
        "colab_type": "code",
        "colab": {
          "base_uri": "https://localhost:8080/",
          "height": 571
        },
        "outputId": "6f8e99d6-cdaf-4f03-d7c3-a80c9644d07c"
      },
      "source": [
        "classes = list(range(0,62))\n",
        "y=[]\n",
        "y_pred = []\n",
        "\n",
        "for i in range(labels_test.shape[0]):\n",
        "\n",
        "  for j in range(len(classes)):\n",
        "\n",
        "    if(labels_test[i][j]==1):\n",
        "      y.append(j)\n",
        "      #print(y)\n",
        "\n",
        "\n",
        "print(len(y))\n",
        "print(y[0])\n",
        "\n",
        "#Confusion Matrix for testing data\n",
        "cm_test = confusion_matrix(y, y_te_pred)\n",
        "cm_test = cm_test.astype('float') / cm_test.sum(axis=1)[:, np.newaxis]  #To nomalize the confusion matrix\n",
        "\n",
        "d_cm_test=np.diagonal(cm_test)\n",
        "acc_score_test = accuracy_score(y, y_te_pred)\n",
        "\n",
        "import seaborn as sns\n",
        "f = plt.figure(figsize=(20,8))\n",
        "ax=f.add_subplot(1,1,1)\n",
        "sns.heatmap(cm_test, annot=False, fmt=\".2f\", linewidths=.5, square = True, cmap = 'Blues',ax=ax, vmin=0, vmax=1)\n",
        "ax.set_xlabel('Predicted label')\n",
        "ax.set_ylabel('Actual label')\n",
        "'Accuracy Score: {0}'.format(acc_score_test)\n",
        "ax.set_title('Confusion Matrix', size = 15);\n",
        "plt.show()"
      ],
      "execution_count": 49,
      "outputs": [
        {
          "output_type": "stream",
          "text": [
            "2520\n",
            "0\n"
          ],
          "name": "stdout"
        },
        {
          "output_type": "stream",
          "text": [
            "/usr/local/lib/python3.6/dist-packages/ipykernel_launcher.py:19: RuntimeWarning: invalid value encountered in true_divide\n"
          ],
          "name": "stderr"
        },
        {
          "output_type": "display_data",
          "data": {
            "image/png": "[encoded data removed]",
            "text/plain": [
              "<Figure size 1440x576 with 2 Axes>"
            ]
          },
          "metadata": {
            "tags": []
          }
        }
      ]
    }
  ]
}