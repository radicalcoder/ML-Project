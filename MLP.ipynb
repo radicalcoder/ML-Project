{
  "nbformat": 4,
  "nbformat_minor": 0,
  "metadata": {
    "colab": {
      "name": "Untitled1.ipynb",
      "provenance": [],
      "include_colab_link": true
    },
    "kernelspec": {
      "name": "python3",
      "display_name": "Python 3"
    }
  },
  "cells": [
    {
      "cell_type": "markdown",
      "metadata": {
        "id": "view-in-github",
        "colab_type": "text"
      },
      "source": [
        "<a href=\"https://colab.research.google.com/github/radicalcoder/ML-Project/blob/master/MLP.ipynb\" target=\"_parent\"><img src=\"https://colab.research.google.com/assets/colab-badge.svg\" alt=\"Open In Colab\"/></a>"
      ]
    },
    {
      "cell_type": "code",
      "metadata": {
        "id": "pWq7yyS0HsIR",
        "colab_type": "code",
        "outputId": "9a5441ed-c715-452f-c3dd-7da76586d18b",
        "colab": {
          "base_uri": "https://localhost:8080/",
          "height": 151
        }
      },
      "source": [
        "import os\n",
        "import random\n",
        "import matplotlib\n",
        "import matplotlib.pyplot as plt\n",
        "import skimage\n",
        "import skimage.data\n",
        "import skimage.transform\n",
        "import tensorflow as tf\n",
        "import numpy as np\n",
        "import pandas as pd\n",
        "from sklearn.metrics import confusion_matrix, classification_report, accuracy_score\n",
        "import itertools\n",
        "from keras import models\n",
        "from keras.preprocessing import image\n",
        "from PIL import Image\n",
        "from keras.models import Sequential\n",
        "import keras\n",
        "import PIL\n",
        "from skimage import io\n",
        "from skimage import color\n",
        "from keras.layers import Dense, Conv2D, Flatten, MaxPooling2D, Dropout\n",
        "\n",
        "\n",
        "# To read the data directory from repository on github.\n",
        "%matplotlib inline\n",
        "!git clone -l -s https://github.com/radicalcoder/ML-Project.git data\n",
        "%cd data\n",
        "!ls"
      ],
      "execution_count": 0,
      "outputs": [
        {
          "output_type": "display_data",
          "data": {
            "text/html": [
              "<p style=\"color: red;\">\n",
              "The default version of TensorFlow in Colab will soon switch to TensorFlow 2.x.<br>\n",
              "We recommend you <a href=\"https://www.tensorflow.org/guide/migrate\" target=\"_blank\">upgrade</a> now \n",
              "or ensure your notebook will continue to use TensorFlow 1.x via the <code>%tensorflow_version 1.x</code> magic:\n",
              "<a href=\"https://colab.research.google.com/notebooks/tensorflow_version.ipynb\" target=\"_blank\">more info</a>.</p>\n"
            ],
            "text/plain": [
              "<IPython.core.display.HTML object>"
            ]
          },
          "metadata": {
            "tags": []
          }
        },
        {
          "output_type": "stream",
          "text": [
            "Using TensorFlow backend.\n"
          ],
          "name": "stderr"
        },
        {
          "output_type": "stream",
          "text": [
            "fatal: destination path 'data' already exists and is not an empty directory.\n",
            "/content/data\n",
            "BelgiumTSC_Testing   data\t\t\t   MLP.ipynb  traffic.py\n",
            "BelgiumTSC_Training  MLP_final_initialdraft.ipynb  README.md\n"
          ],
          "name": "stdout"
        }
      ]
    },
    {
      "cell_type": "code",
      "metadata": {
        "id": "bP04wnwpKWTg",
        "colab_type": "code",
        "colab": {}
      },
      "source": [
        "def data_loader(data_dir):\n",
        "    \"\"\"\n",
        "    The data set is read into two lists, as follows:\n",
        "    list labels[] -> a list of numbers, where each number represents a unique image label.\n",
        "    list images[] -> a list of arrays, where each array represents a single image.\n",
        "    \n",
        "    The data set directory contains multiple subdirectories. We read all these \n",
        "    subdirectories into a list subdirs[]. Since the subfolders are read in a random order, the list\n",
        "    is also in a random order. We then sort this array using the sort() function.\n",
        "    \"\"\"\n",
        "    \n",
        "    subdirs = []\n",
        "    for i in os.listdir(data_dir):\n",
        "      if os.path.isdir(data_dir + i):   # There may be .txt files in the data_dir hence we need to check\n",
        "        subdirs.append(i)\n",
        "\n",
        "    subdirs.sort()\n",
        "    \n",
        "    \"\"\"\n",
        "    Data is now collected into two lists - labels & images - while looping through the \n",
        "    list subdirs[].    \n",
        "    \"\"\"\n",
        "\n",
        "    labels = []\n",
        "    images = []\n",
        "    for i in subdirs:\n",
        "        label_dir = data_dir + i\n",
        "        #print(label_dir)\n",
        "        f_names=[]\n",
        "        for f in os.listdir(label_dir):\n",
        "          if f.endswith(\".ppm\"):   # only files that end in .ppm are image files\n",
        "            f_names.append(label_dir + '/' + f)\n",
        "        # print(f_names)\n",
        "        \"\"\"\n",
        "        Now for each label, append all its images into the list images[] and \n",
        "        append its label number in the list labels[]. \n",
        "        \"\"\"\n",
        "        \n",
        "        for f in f_names:\n",
        "            images.append(skimage.data.imread(f))   #use parameter as_grey??\n",
        "            labels.append(int(i))\n",
        "    return labels, images\n",
        "\n",
        "\n",
        "# Loading the training and testing dataset using the function data_loader().\n",
        "training_data_dir = \"BelgiumTSC_Training/Training/\"\n",
        "testing_data_dir = \"BelgiumTSC_Testing/Testing/\"\n",
        "\n",
        "labels, images = data_loader(training_data_dir)\n",
        "#print(labels)"
      ],
      "execution_count": 0,
      "outputs": []
    },
    {
      "cell_type": "code",
      "metadata": {
        "id": "xWYP-F1pLS3w",
        "colab_type": "code",
        "outputId": "abce52d4-63e4-4e11-bbed-2e9526a17b8c",
        "colab": {
          "base_uri": "https://localhost:8080/",
          "height": 52
        }
      },
      "source": [
        "print(\"No of unique Labels: \", len(set(labels)), \"\\nTotal number of Images: \", len(images)) "
      ],
      "execution_count": 0,
      "outputs": [
        {
          "output_type": "stream",
          "text": [
            "Unique Labels: 62\n",
            "Total Images: 4575\n"
          ],
          "name": "stdout"
        }
      ]
    },
    {
      "cell_type": "code",
      "metadata": {
        "id": "KphYIFdfYZgv",
        "colab_type": "code",
        "colab": {}
      },
      "source": [
        "\"\"\"def display_images_and_labels(images, labels):\n",
        "    Display the first image of each label.\n",
        "    unique_labels = set(labels)\n",
        "    plt.figure(figsize=(15, 15))\n",
        "    i = 1\n",
        "    for label in unique_labels:\n",
        "        # Pick the first image for each label.\n",
        "        image = images[labels.index(label)]\n",
        "        plt.subplot(8, 8, i)  # A grid of 8 rows x 8 columns\n",
        "        plt.axis('off')\n",
        "        plt.title(\"Label {0} ({1})\".format(label, labels.count(label)))\n",
        "        i += 1\n",
        "        _ = plt.imshow(image,cmap=\"gray\")\n",
        "    plt.show()\n",
        "\"\"\"\n"
      ],
      "execution_count": 0,
      "outputs": []
    },
    {
      "cell_type": "code",
      "metadata": {
        "id": "895tn4QSPQpK",
        "colab_type": "code",
        "outputId": "2d225daf-f119-43f3-e415-7c050c15bfea",
        "colab": {
          "base_uri": "https://localhost:8080/",
          "height": 34
        }
      },
      "source": [
        "reshape_images=[]\n",
        "grayscale_images=[]\n",
        "for i in images:\n",
        "  reshape_images.append(skimage.transform.resize(i,(32,32), mode ='constant'))\n",
        "  \n",
        "for i in reshape_images:\n",
        "  grayscale_images.append(color.rgb2gray(i))\n",
        "#display_images_and_labels(grayscale_images, labels)\n",
        "\n",
        "#print(len(grayscale_images))\n",
        "  #print(\"shape: {0}, min: {1}, max: {2}\".format(i.shape, i.min(), i.max()))\n",
        "\n",
        "#for i in reshape_images[:20]:\n",
        "  #print(\"shape: {0}, min: {1}, max: {2}\".format(i.shape, i.min(), i.max()))"
      ],
      "execution_count": 0,
      "outputs": [
        {
          "output_type": "stream",
          "text": [
            "4575\n"
          ],
          "name": "stdout"
        }
      ]
    }
  ]
}