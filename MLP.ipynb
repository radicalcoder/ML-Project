{
  "nbformat": 4,
  "nbformat_minor": 0,
  "metadata": {
    "colab": {
      "name": "Untitled1.ipynb",
      "provenance": [],
      "include_colab_link": true
    },
    "kernelspec": {
      "name": "python3",
      "display_name": "Python 3"
    }
  },
  "cells": [
    {
      "cell_type": "markdown",
      "metadata": {
        "id": "view-in-github",
        "colab_type": "text"
      },
      "source": [
        "<a href=\"https://colab.research.google.com/github/radicalcoder/ML-Project/blob/master/MLP.ipynb\" target=\"_parent\"><img src=\"https://colab.research.google.com/assets/colab-badge.svg\" alt=\"Open In Colab\"/></a>"
      ]
    },
    {
      "cell_type": "code",
      "metadata": {
        "id": "pWq7yyS0HsIR",
        "colab_type": "code",
        "outputId": "92d66b29-35d3-4052-e03e-0dee5d1e352c",
        "colab": {
          "base_uri": "https://localhost:8080/",
          "height": 267
        }
      },
      "source": [
        "import os\n",
        "import random\n",
        "import matplotlib\n",
        "import matplotlib.pyplot as plt\n",
        "import skimage.data\n",
        "import skimage.transform\n",
        "import tensorflow as tf\n",
        "import numpy as np\n",
        "import pandas as pd\n",
        "import cv2\n",
        "from sklearn.model_selection import train_test_split\n",
        "from sklearn.metrics import confusion_matrix, classification_report, accuracy_score\n",
        "import itertools\n",
        "from keras import models\n",
        "from keras.preprocessing import image\n",
        "from PIL import Image\n",
        "from keras.models import Sequential\n",
        "import keras\n",
        "import PIL\n",
        "from keras.layers import Dense, Conv2D, Flatten, MaxPooling2D, Dropout\n",
        "\n",
        "\n",
        "# To read the data directory from repository on github.\n",
        "%matplotlib inline\n",
        "!git clone -l -s https://github.com/radicalcoder/ML-Project.git data\n",
        "%cd data\n",
        "!ls"
      ],
      "execution_count": 0,
      "outputs": [
        {
          "output_type": "display_data",
          "data": {
            "text/html": [
              "<p style=\"color: red;\">\n",
              "The default version of TensorFlow in Colab will soon switch to TensorFlow 2.x.<br>\n",
              "We recommend you <a href=\"https://www.tensorflow.org/guide/migrate\" target=\"_blank\">upgrade</a> now \n",
              "or ensure your notebook will continue to use TensorFlow 1.x via the <code>%tensorflow_version 1.x</code> magic:\n",
              "<a href=\"https://colab.research.google.com/notebooks/tensorflow_version.ipynb\" target=\"_blank\">more info</a>.</p>\n"
            ],
            "text/plain": [
              "<IPython.core.display.HTML object>"
            ]
          },
          "metadata": {
            "tags": []
          }
        },
        {
          "output_type": "stream",
          "text": [
            "Cloning into 'data'...\n",
            "warning: --local is ignored\n",
            "remote: Enumerating objects: 30, done.\u001b[K\n",
            "remote: Counting objects:   3% (1/30)\u001b[K\rremote: Counting objects:   6% (2/30)\u001b[K\rremote: Counting objects:  10% (3/30)\u001b[K\rremote: Counting objects:  13% (4/30)\u001b[K\rremote: Counting objects:  16% (5/30)\u001b[K\rremote: Counting objects:  20% (6/30)\u001b[K\rremote: Counting objects:  23% (7/30)\u001b[K\rremote: Counting objects:  26% (8/30)\u001b[K\rremote: Counting objects:  30% (9/30)\u001b[K\rremote: Counting objects:  33% (10/30)\u001b[K\rremote: Counting objects:  36% (11/30)\u001b[K\rremote: Counting objects:  40% (12/30)\u001b[K\rremote: Counting objects:  43% (13/30)\u001b[K\rremote: Counting objects:  46% (14/30)\u001b[K\rremote: Counting objects:  50% (15/30)\u001b[K\rremote: Counting objects:  53% (16/30)\u001b[K\rremote: Counting objects:  56% (17/30)\u001b[K\rremote: Counting objects:  60% (18/30)\u001b[K\rremote: Counting objects:  63% (19/30)\u001b[K\rremote: Counting objects:  66% (20/30)\u001b[K\rremote: Counting objects:  70% (21/30)\u001b[K\rremote: Counting objects:  73% (22/30)\u001b[K\rremote: Counting objects:  76% (23/30)\u001b[K\rremote: Counting objects:  80% (24/30)\u001b[K\rremote: Counting objects:  83% (25/30)\u001b[K\rremote: Counting objects:  86% (26/30)\u001b[K\rremote: Counting objects:  90% (27/30)\u001b[K\rremote: Counting objects:  93% (28/30)\u001b[K\rremote: Counting objects:  96% (29/30)\u001b[K\rremote: Counting objects: 100% (30/30)\u001b[K\rremote: Counting objects: 100% (30/30), done.\u001b[K\n",
            "remote: Compressing objects: 100% (30/30), done.\u001b[K\n",
            "remote: Total 7379 (delta 17), reused 0 (delta 0), pack-reused 7349\n",
            "Receiving objects: 100% (7379/7379), 247.13 MiB | 27.23 MiB/s, done.\n",
            "Resolving deltas: 100% (20/20), done.\n",
            "Checking out files: 100% (7225/7225), done.\n",
            "/content/data\n",
            "BelgiumTSC_Testing   MLP_final_initialdraft.ipynb  README.md\n",
            "BelgiumTSC_Training  MLP.ipynb\t\t\t   traffic.py\n"
          ],
          "name": "stdout"
        }
      ]
    },
    {
      "cell_type": "code",
      "metadata": {
        "id": "bP04wnwpKWTg",
        "colab_type": "code",
        "colab": {}
      },
      "source": [
        "def data_loader(data_dir):\n",
        "    \"\"\"\n",
        "    The data set is read into two lists, as follows:\n",
        "    list labels[] -> a list of numbers, where each number represents a unique image label.\n",
        "    list images[] -> a list of arrays, where each array represents a single image.\n",
        "    \n",
        "    The data set directory contains multiple subdirectories. We read all these \n",
        "    subdirectories into a list subdirs[]. Since the subfolders are read in a random order, the list\n",
        "    is also in a random order. We then sort this array using the sort() function.\n",
        "    \"\"\"\n",
        "    \n",
        "    subdirs = []\n",
        "    for i in os.listdir(data_dir):\n",
        "      if os.path.isdir(data_dir + i):   # There may be .txt files in the data_dir hence we need to check\n",
        "        subdirs.append(i)\n",
        "\n",
        "    subdirs.sort()\n",
        "    \n",
        "    \"\"\"\n",
        "    Data is now collected into two lists - labels & images - while looping through the \n",
        "    list subdirs[].    \n",
        "    \"\"\"\n",
        "\n",
        "    labels = []\n",
        "    images = []\n",
        "    for i in subdirs:\n",
        "        label_dir = data_dir + i\n",
        "        #print(label_dir)\n",
        "        f_names=[]\n",
        "        for f in os.listdir(label_dir):\n",
        "          if f.endswith(\".ppm\"):   # only files that end in .ppm are image files\n",
        "            f_names.append(label_dir + '/' + f)\n",
        "        # print(f_names)\n",
        "        \"\"\"\n",
        "        Now for each label, append all its images into the list images[] and \n",
        "        append its label number in the list labels[]. \n",
        "        \"\"\"\n",
        "        \n",
        "        for f in f_names:\n",
        "            images.append(skimage.data.imread(f))   #use parameter as_grey??\n",
        "            labels.append(int(i))\n",
        "    return labels, images\n",
        "\n",
        "\n",
        "# Loading the training and testing dataset using the function data_loader().\n",
        "data_dir_training = \"BelgiumTSC_Training/Training/\"\n",
        "data_dir_testing = \"BelgiumTSC_Testing/Testing/\"\n",
        "\n",
        "labels, images = data_loader(data_dir_training)\n",
        "#print(labels)"
      ],
      "execution_count": 0,
      "outputs": []
    },
    {
      "cell_type": "code",
      "metadata": {
        "id": "xWYP-F1pLS3w",
        "colab_type": "code",
        "outputId": "dd210cbd-d7e5-4de0-a59e-24a11d68c1b0",
        "colab": {
          "base_uri": "https://localhost:8080/",
          "height": 51
        }
      },
      "source": [
        "print(\"No of unique Labels: \", len(set(labels)), \"\\nTotal number of Images: \", len(images)) \n"
      ],
      "execution_count": 4,
      "outputs": [
        {
          "output_type": "stream",
          "text": [
            "No of unique Labels:  62 \n",
            "Total number of Images:  4575\n"
          ],
          "name": "stdout"
        }
      ]
    },
    {
      "cell_type": "code",
      "metadata": {
        "id": "895tn4QSPQpK",
        "colab_type": "code",
        "colab": {}
      },
      "source": [
        "reshape_images=[]\n",
        "for i in images:\n",
        "  reshape_images.append(skimage.transform.resize(i,(32,32), mode ='constant'))\n",
        "  #print(\"shape: {0}, min: {1}, max: {2}\".format(i.shape, i.min(), i.max()))\n",
        "\n",
        "#for i in reshape_images[:20]:\n",
        "  #print(\"shape: {0}, min: {1}, max: {2}\".format(i.shape, i.min(), i.max()))"
      ],
      "execution_count": 0,
      "outputs": []
    }
  ]
}